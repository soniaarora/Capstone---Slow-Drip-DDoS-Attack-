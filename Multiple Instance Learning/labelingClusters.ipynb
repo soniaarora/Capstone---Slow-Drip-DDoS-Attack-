{
 "cells": [
  {
   "cell_type": "code",
   "execution_count": 1,
   "metadata": {},
   "outputs": [],
   "source": [
    "import numpy as np\n",
    "\n",
    "import matplotlib.pyplot as plt\n",
    "\n",
    "import matplotlib.pyplot as figure\n",
    "import seaborn as sns  # you might not have this installed -- it makes graphs prettier and sometimes easier\n",
    "%matplotlib inline \n",
    "from sklearn.preprocessing import StandardScaler\n",
    "import pandas as pd\n",
    "import os\n",
    "from sklearn import preprocessing\n",
    "from random import sample\n",
    "import glob, os \n",
    "import pandas as pd\n",
    "from sklearn.feature_extraction.text import TfidfVectorizer\n",
    "from sklearn.datasets.samples_generator import make_blobs\n",
    "from sklearn.decomposition import TruncatedSVD\n",
    "from sklearn.feature_extraction.text import CountVectorizer\n",
    "from scipy.sparse import hstack\n",
    "from random import sample\n"
   ]
  },
  {
   "cell_type": "code",
   "execution_count": 2,
   "metadata": {},
   "outputs": [],
   "source": [
    "all_files = glob.glob(os.path.join('differentDaysAttacksSelected6Clusters/', \"*.csv\"))     \n",
    "\n",
    "df_from_each_file =  (pd.read_csv(f, nrows = 164289) for f in all_files)"
   ]
  },
  {
   "cell_type": "code",
   "execution_count": 3,
   "metadata": {},
   "outputs": [
    {
     "name": "stderr",
     "output_type": "stream",
     "text": [
      "C:\\Users\\Hp\\Anaconda3\\lib\\site-packages\\ipykernel_launcher.py:1: FutureWarning: Sorting because non-concatenation axis is not aligned. A future version\n",
      "of pandas will change to not sort by default.\n",
      "\n",
      "To accept the future behavior, pass 'sort=False'.\n",
      "\n",
      "To retain the current behavior and silence the warning, pass 'sort=True'.\n",
      "\n",
      "  \"\"\"Entry point for launching an IPython kernel.\n"
     ]
    }
   ],
   "source": [
    "positiveSamples  = pd.concat(df_from_each_file, ignore_index=True)"
   ]
  },
  {
   "cell_type": "code",
   "execution_count": 21,
   "metadata": {},
   "outputs": [
    {
     "data": {
      "text/plain": [
       "valitor.is_Aug1      164289\n",
       "airbnb.com_Jul5      164289\n",
       "tinder.com_Jul05     164289\n",
       "jet.network_Aug1     164289\n",
       "aboutyou.de_Jul30    164289\n",
       "telstra.com_Aug1     164288\n",
       "Name: domain, dtype: int64"
      ]
     },
     "execution_count": 21,
     "metadata": {},
     "output_type": "execute_result"
    }
   ],
   "source": [
    "positiveSamples.domain.value_counts()"
   ]
  },
  {
   "cell_type": "code",
   "execution_count": 4,
   "metadata": {},
   "outputs": [
    {
     "data": {
      "text/plain": [
       "985733"
      ]
     },
     "execution_count": 4,
     "metadata": {},
     "output_type": "execute_result"
    }
   ],
   "source": [
    "len(positiveSamples)"
   ]
  },
  {
   "cell_type": "code",
   "execution_count": 5,
   "metadata": {},
   "outputs": [],
   "source": [
    "positiveSamples = positiveSamples.drop(columns = ['bigram_pref','label'])"
   ]
  },
  {
   "cell_type": "code",
   "execution_count": 6,
   "metadata": {},
   "outputs": [],
   "source": [
    "positiveSamples['prefix'] = positiveSamples['prefix'].astype('str')\n",
    "positiveSamples['bigramPref'] = positiveSamples['bigramPref'].astype('str')"
   ]
  },
  {
   "cell_type": "code",
   "execution_count": 22,
   "metadata": {},
   "outputs": [],
   "source": [
    "dataClusterdict = {\"aboutyou.de_Jul30\": 7,\"airbnb.com_Jul5\":4,   \"tinder.com_Jul05\":-1, \"valitor.is_Aug1\":0, \"telstra.com_Aug1\": 3, \"jet.network_Aug1\": 1}"
   ]
  },
  {
   "cell_type": "code",
   "execution_count": 24,
   "metadata": {},
   "outputs": [],
   "source": [
    "value = []\n",
    "for i, row in positiveSamples.iterrows():\n",
    "    value.append(dataClusterdict[row['domain']])"
   ]
  },
  {
   "cell_type": "code",
   "execution_count": 25,
   "metadata": {},
   "outputs": [],
   "source": [
    "positiveSamples['LABELS'] = value"
   ]
  },
  {
   "cell_type": "code",
   "execution_count": 26,
   "metadata": {},
   "outputs": [],
   "source": [
    "df = positiveSamples[['prefix','LABELS','bigramPref','pref_len']]"
   ]
  },
  {
   "cell_type": "code",
   "execution_count": 27,
   "metadata": {},
   "outputs": [
    {
     "data": {
      "text/html": [
       "<div>\n",
       "<style scoped>\n",
       "    .dataframe tbody tr th:only-of-type {\n",
       "        vertical-align: middle;\n",
       "    }\n",
       "\n",
       "    .dataframe tbody tr th {\n",
       "        vertical-align: top;\n",
       "    }\n",
       "\n",
       "    .dataframe thead th {\n",
       "        text-align: right;\n",
       "    }\n",
       "</style>\n",
       "<table border=\"1\" class=\"dataframe\">\n",
       "  <thead>\n",
       "    <tr style=\"text-align: right;\">\n",
       "      <th></th>\n",
       "      <th>prefix</th>\n",
       "      <th>LABELS</th>\n",
       "      <th>bigramPref</th>\n",
       "      <th>pref_len</th>\n",
       "    </tr>\n",
       "  </thead>\n",
       "  <tbody>\n",
       "    <tr>\n",
       "      <th>0</th>\n",
       "      <td>tomot.siwresrepus.planbus-dev</td>\n",
       "      <td>7</td>\n",
       "      <td>^tomot.siwresrepus.planbus-dev$</td>\n",
       "      <td>29</td>\n",
       "    </tr>\n",
       "    <tr>\n",
       "      <th>1</th>\n",
       "      <td>www.solacres</td>\n",
       "      <td>7</td>\n",
       "      <td>^www.solacres$</td>\n",
       "      <td>12</td>\n",
       "    </tr>\n",
       "    <tr>\n",
       "      <th>2</th>\n",
       "      <td>trust-center</td>\n",
       "      <td>7</td>\n",
       "      <td>^trust-center$</td>\n",
       "      <td>12</td>\n",
       "    </tr>\n",
       "    <tr>\n",
       "      <th>3</th>\n",
       "      <td>secure.my</td>\n",
       "      <td>7</td>\n",
       "      <td>^secure.my$</td>\n",
       "      <td>9</td>\n",
       "    </tr>\n",
       "    <tr>\n",
       "      <th>4</th>\n",
       "      <td>ssl255260</td>\n",
       "      <td>7</td>\n",
       "      <td>^ssl255260$</td>\n",
       "      <td>9</td>\n",
       "    </tr>\n",
       "  </tbody>\n",
       "</table>\n",
       "</div>"
      ],
      "text/plain": [
       "                          prefix  LABELS                       bigramPref  \\\n",
       "0  tomot.siwresrepus.planbus-dev       7  ^tomot.siwresrepus.planbus-dev$   \n",
       "1                   www.solacres       7                   ^www.solacres$   \n",
       "2                   trust-center       7                   ^trust-center$   \n",
       "3                      secure.my       7                      ^secure.my$   \n",
       "4                      ssl255260       7                      ^ssl255260$   \n",
       "\n",
       "   pref_len  \n",
       "0        29  \n",
       "1        12  \n",
       "2        12  \n",
       "3         9  \n",
       "4         9  "
      ]
     },
     "execution_count": 27,
     "metadata": {},
     "output_type": "execute_result"
    }
   ],
   "source": [
    "df.head()"
   ]
  },
  {
   "cell_type": "code",
   "execution_count": 28,
   "metadata": {},
   "outputs": [],
   "source": [
    "df.to_csv(\"combinedDatasetfor6clusters(164298each).csv\", index = False)"
   ]
  }
 ],
 "metadata": {
  "kernelspec": {
   "display_name": "Python 3",
   "language": "python",
   "name": "python3"
  },
  "language_info": {
   "codemirror_mode": {
    "name": "ipython",
    "version": 3
   },
   "file_extension": ".py",
   "mimetype": "text/x-python",
   "name": "python",
   "nbconvert_exporter": "python",
   "pygments_lexer": "ipython3",
   "version": "3.6.6"
  }
 },
 "nbformat": 4,
 "nbformat_minor": 2
}
