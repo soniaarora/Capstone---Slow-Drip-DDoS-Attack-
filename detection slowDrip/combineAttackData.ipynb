{
 "cells": [
  {
   "cell_type": "code",
   "execution_count": 2,
   "metadata": {},
   "outputs": [],
   "source": [
    "import pandas as pd\n",
    "import numpy as np\n",
    "import glob, os "
   ]
  },
  {
   "cell_type": "code",
   "execution_count": 8,
   "metadata": {},
   "outputs": [],
   "source": [
    "path = 'train_data/'  "
   ]
  },
  {
   "cell_type": "code",
   "execution_count": 9,
   "metadata": {},
   "outputs": [],
   "source": [
    "all_files = glob.glob(os.path.join(path, \"*.csv\"))     \n",
    "\n",
    "df_from_each_file = (pd.read_csv(f) for f in all_files)\n",
    "concatenated_df   = pd.concat(df_from_each_file, ignore_index=True)"
   ]
  },
  {
   "cell_type": "code",
   "execution_count": 6,
   "metadata": {},
   "outputs": [],
   "source": [
    "train_Data = concatenated_df"
   ]
  },
  {
   "cell_type": "code",
   "execution_count": 9,
   "metadata": {},
   "outputs": [],
   "source": [
    "test_files = glob.glob(os.path.join('test_data/', \"*.csv\"))     \n",
    "\n",
    "df_from_each_testFile = (pd.read_csv(f) for f in test_files)\n",
    "test_Data   = pd.concat(df_from_each_testFile, ignore_index=True)"
   ]
  },
  {
   "cell_type": "code",
   "execution_count": 12,
   "metadata": {},
   "outputs": [],
   "source": [
    "label_train_files = glob.glob(os.path.join('label_train/', \"*.csv\"))  \n",
    "df_from_each_label_trainFile = (pd.read_csv(f) for f in label_train_files)\n",
    "label_Train   = pd.concat(df_from_each_label_trainFile, ignore_index=True)"
   ]
  },
  {
   "cell_type": "code",
   "execution_count": 15,
   "metadata": {},
   "outputs": [],
   "source": [
    "label_test_files = glob.glob(os.path.join('label_test/', \"*.csv\"))  \n",
    "df_from_each_label_testFile = (pd.read_csv(f) for f in label_test_files)\n",
    "label_Test   = pd.concat(df_from_each_label_testFile, ignore_index=True)"
   ]
  },
  {
   "cell_type": "code",
   "execution_count": 18,
   "metadata": {},
   "outputs": [],
   "source": [
    "train_Data.to_csv(\"trainData.csv\",index = False)"
   ]
  },
  {
   "cell_type": "code",
   "execution_count": 19,
   "metadata": {},
   "outputs": [],
   "source": [
    "test_Data.to_csv(\"testData.csv\", index = False)"
   ]
  },
  {
   "cell_type": "code",
   "execution_count": 20,
   "metadata": {},
   "outputs": [],
   "source": [
    "label_Train.to_csv(\"trainLabel.csv\", index = False)"
   ]
  },
  {
   "cell_type": "code",
   "execution_count": 21,
   "metadata": {},
   "outputs": [],
   "source": [
    "label_Test.to_csv(\"testLabel.csv\", index = False)"
   ]
  },
  {
   "cell_type": "code",
   "execution_count": 10,
   "metadata": {},
   "outputs": [
    {
     "data": {
      "text/plain": [
       "['positiveprefixes\\\\positivePrefixesabout.csv',\n",
       " 'positiveprefixes\\\\positivePrefixesairbnb.csv',\n",
       " 'positiveprefixes\\\\positivePrefixesamerican.csv',\n",
       " 'positiveprefixes\\\\positivePrefixesdenardi.csv',\n",
       " 'positiveprefixes\\\\positivePrefixesebay.csv',\n",
       " 'positiveprefixes\\\\positivePrefixesedited.csv',\n",
       " 'positiveprefixes\\\\positivePrefixesgetharvest.csv',\n",
       " 'positiveprefixes\\\\positivePrefixesgetprompt.csv',\n",
       " 'positiveprefixes\\\\positivePrefixesiceland.csv',\n",
       " 'positiveprefixes\\\\positivePrefixesjet.csv',\n",
       " 'positiveprefixes\\\\positivePrefixesmheginc.csv',\n",
       " 'positiveprefixes\\\\positivePrefixesnorth.csv',\n",
       " 'positiveprefixes\\\\positivePrefixesnspk.csv',\n",
       " 'positiveprefixes\\\\positivePrefixespaydiant.csv',\n",
       " 'positiveprefixes\\\\positivePrefixesremote.csv',\n",
       " 'positiveprefixes\\\\positivePrefixestelstra.csv',\n",
       " 'positiveprefixes\\\\positivePrefixestinder.csv',\n",
       " 'positiveprefixes\\\\positivePrefixesuber.csv',\n",
       " 'positiveprefixes\\\\positivePrefixesvalitor.csv',\n",
       " 'positiveprefixes\\\\positivePrefixeswithairbnb.csv']"
      ]
     },
     "execution_count": 10,
     "metadata": {},
     "output_type": "execute_result"
    }
   ],
   "source": [
    "positive_pre = glob.glob(os.path.join('positiveprefixes/', \"*.csv\"))  \n",
    "positive_pre"
   ]
  },
  {
   "cell_type": "code",
   "execution_count": 11,
   "metadata": {},
   "outputs": [],
   "source": [
    "df_positve = (pd.read_csv(f) for f in positive_pre)\n"
   ]
  },
  {
   "cell_type": "code",
   "execution_count": 12,
   "metadata": {},
   "outputs": [],
   "source": [
    "positiveSamples  = pd.concat(df_positve, ignore_index=True)\n"
   ]
  },
  {
   "cell_type": "code",
   "execution_count": 21,
   "metadata": {},
   "outputs": [],
   "source": [
    "positiveSamples = positiveSamples.drop_duplicates()"
   ]
  },
  {
   "cell_type": "code",
   "execution_count": 22,
   "metadata": {},
   "outputs": [
    {
     "data": {
      "text/plain": [
       "9899176"
      ]
     },
     "execution_count": 22,
     "metadata": {},
     "output_type": "execute_result"
    }
   ],
   "source": [
    "len(positiveSamples)"
   ]
  },
  {
   "cell_type": "code",
   "execution_count": 23,
   "metadata": {},
   "outputs": [],
   "source": [
    "positiveSamples.to_csv(\"positiveSamples.csv\", index = False)"
   ]
  },
  {
   "cell_type": "code",
   "execution_count": null,
   "metadata": {},
   "outputs": [],
   "source": []
  }
 ],
 "metadata": {
  "kernelspec": {
   "display_name": "Python 3",
   "language": "python",
   "name": "python3"
  },
  "language_info": {
   "codemirror_mode": {
    "name": "ipython",
    "version": 3
   },
   "file_extension": ".py",
   "mimetype": "text/x-python",
   "name": "python",
   "nbconvert_exporter": "python",
   "pygments_lexer": "ipython3",
   "version": "3.6.6"
  }
 },
 "nbformat": 4,
 "nbformat_minor": 2
}
