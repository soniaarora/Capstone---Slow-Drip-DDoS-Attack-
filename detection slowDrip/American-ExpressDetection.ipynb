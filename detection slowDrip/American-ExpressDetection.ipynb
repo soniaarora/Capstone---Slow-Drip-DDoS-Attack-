{
 "cells": [
  {
   "cell_type": "code",
   "execution_count": 1,
   "metadata": {},
   "outputs": [],
   "source": [
    "import numpy as np\n",
    "import matplotlib\n",
    "\n",
    "import matplotlib.pyplot as plt\n",
    "\n",
    "import matplotlib.pyplot as figure\n",
    "import seaborn as sns  \n",
    "\n",
    "import umap\n",
    "import tldextract\n",
    "from sklearn.preprocessing import StandardScaler\n",
    "import pandas as pd\n",
    "import publicsuffixlist as psl\n",
    "import os\n",
    "from tqdm import tqdm_notebook\n",
    "from sklearn import preprocessing"
   ]
  },
  {
   "cell_type": "code",
   "execution_count": 3,
   "metadata": {},
   "outputs": [],
   "source": [
    "another_data_part = pd.read_parquet(\"data_20180705.parquet\", engine= \"fastparquet\")"
   ]
  },
  {
   "cell_type": "code",
   "execution_count": 4,
   "metadata": {},
   "outputs": [],
   "source": [
    "another_data_part['pd_ts'] = pd.to_datetime(another_data_part.timestamp, unit='s') \n",
    "# another_data_part = another_data_part.set_index('pd_ts').sort_index()\n",
    "another_data_part['date'] = another_data_part['pd_ts'].dt.date"
   ]
  },
  {
   "cell_type": "code",
   "execution_count": 5,
   "metadata": {
    "scrolled": true
   },
   "outputs": [
    {
     "data": {
      "text/plain": [
       "airbnb.com             1577304\n",
       "mheginc.com            1454389\n",
       "tinder.com              991028\n",
       "americanexpress.com     791435\n",
       "withairbnb.com          477711\n",
       "Name: domain, dtype: int64"
      ]
     },
     "execution_count": 5,
     "metadata": {},
     "output_type": "execute_result"
    }
   ],
   "source": [
    "another_data_part.domain.value_counts()\n",
    "# another_data_part.to_csv('uberData.csv')"
   ]
  },
  {
   "cell_type": "code",
   "execution_count": 7,
   "metadata": {},
   "outputs": [],
   "source": [
    "resolvedDomains = pd.read_parquet('FarsightPrefixesResolvedSample1.parquet', engine= \"fastparquet\")\n",
    "# resolvedDomains.columns = ['prefixes']"
   ]
  },
  {
   "cell_type": "code",
   "execution_count": 6,
   "metadata": {},
   "outputs": [],
   "source": [
    "# resolvedDomains.to_csv('resolvedDomains.csv')"
   ]
  },
  {
   "cell_type": "code",
   "execution_count": 8,
   "metadata": {},
   "outputs": [],
   "source": [
    "listresolvedDomains = list(resolvedDomains.prefix.values)"
   ]
  },
  {
   "cell_type": "code",
   "execution_count": 9,
   "metadata": {},
   "outputs": [],
   "source": [
    "dataAttack = another_data_part[another_data_part['domain'] == 'americanexpress.com']"
   ]
  },
  {
   "cell_type": "code",
   "execution_count": 10,
   "metadata": {},
   "outputs": [
    {
     "data": {
      "text/html": [
       "<div>\n",
       "<style scoped>\n",
       "    .dataframe tbody tr th:only-of-type {\n",
       "        vertical-align: middle;\n",
       "    }\n",
       "\n",
       "    .dataframe tbody tr th {\n",
       "        vertical-align: top;\n",
       "    }\n",
       "\n",
       "    .dataframe thead th {\n",
       "        text-align: right;\n",
       "    }\n",
       "</style>\n",
       "<table border=\"1\" class=\"dataframe\">\n",
       "  <thead>\n",
       "    <tr style=\"text-align: right;\">\n",
       "      <th></th>\n",
       "      <th>timestamp</th>\n",
       "      <th>qname</th>\n",
       "      <th>qip</th>\n",
       "      <th>rip</th>\n",
       "      <th>rcode</th>\n",
       "      <th>qtype</th>\n",
       "      <th>domain</th>\n",
       "      <th>ancount</th>\n",
       "      <th>pd_ts</th>\n",
       "      <th>date</th>\n",
       "    </tr>\n",
       "  </thead>\n",
       "  <tbody>\n",
       "    <tr>\n",
       "      <th>0</th>\n",
       "      <td>1530751756</td>\n",
       "      <td>americanexpress.com.</td>\n",
       "      <td>68.105.28.204</td>\n",
       "      <td>96.7.49.65</td>\n",
       "      <td>0</td>\n",
       "      <td>1</td>\n",
       "      <td>americanexpress.com</td>\n",
       "      <td>1</td>\n",
       "      <td>2018-07-05 00:49:16</td>\n",
       "      <td>2018-07-05</td>\n",
       "    </tr>\n",
       "    <tr>\n",
       "      <th>1</th>\n",
       "      <td>1530751758</td>\n",
       "      <td>cits-tracking-prod.americanexpress.com.</td>\n",
       "      <td>68.105.28.44</td>\n",
       "      <td>193.108.91.57</td>\n",
       "      <td>0</td>\n",
       "      <td>28</td>\n",
       "      <td>americanexpress.com</td>\n",
       "      <td>0</td>\n",
       "      <td>2018-07-05 00:49:18</td>\n",
       "      <td>2018-07-05</td>\n",
       "    </tr>\n",
       "    <tr>\n",
       "      <th>2</th>\n",
       "      <td>1530751743</td>\n",
       "      <td>americanexpress.com.</td>\n",
       "      <td>77.88.56.68</td>\n",
       "      <td>193.108.91.57</td>\n",
       "      <td>0</td>\n",
       "      <td>1</td>\n",
       "      <td>americanexpress.com</td>\n",
       "      <td>1</td>\n",
       "      <td>2018-07-05 00:49:03</td>\n",
       "      <td>2018-07-05</td>\n",
       "    </tr>\n",
       "    <tr>\n",
       "      <th>4</th>\n",
       "      <td>1530751785</td>\n",
       "      <td>origin-pqgemapp.americanexpress.com.</td>\n",
       "      <td>68.105.28.45</td>\n",
       "      <td>193.108.91.57</td>\n",
       "      <td>0</td>\n",
       "      <td>28</td>\n",
       "      <td>americanexpress.com</td>\n",
       "      <td>0</td>\n",
       "      <td>2018-07-05 00:49:45</td>\n",
       "      <td>2018-07-05</td>\n",
       "    </tr>\n",
       "    <tr>\n",
       "      <th>10</th>\n",
       "      <td>1530751774</td>\n",
       "      <td>global.americanexpress.com.</td>\n",
       "      <td>68.105.29.78</td>\n",
       "      <td>193.108.91.57</td>\n",
       "      <td>0</td>\n",
       "      <td>1</td>\n",
       "      <td>americanexpress.com</td>\n",
       "      <td>1</td>\n",
       "      <td>2018-07-05 00:49:34</td>\n",
       "      <td>2018-07-05</td>\n",
       "    </tr>\n",
       "  </tbody>\n",
       "</table>\n",
       "</div>"
      ],
      "text/plain": [
       "     timestamp                                    qname            qip  \\\n",
       "0   1530751756                     americanexpress.com.  68.105.28.204   \n",
       "1   1530751758  cits-tracking-prod.americanexpress.com.   68.105.28.44   \n",
       "2   1530751743                     americanexpress.com.    77.88.56.68   \n",
       "4   1530751785     origin-pqgemapp.americanexpress.com.   68.105.28.45   \n",
       "10  1530751774              global.americanexpress.com.   68.105.29.78   \n",
       "\n",
       "              rip  rcode  qtype               domain  ancount  \\\n",
       "0      96.7.49.65      0      1  americanexpress.com        1   \n",
       "1   193.108.91.57      0     28  americanexpress.com        0   \n",
       "2   193.108.91.57      0      1  americanexpress.com        1   \n",
       "4   193.108.91.57      0     28  americanexpress.com        0   \n",
       "10  193.108.91.57      0      1  americanexpress.com        1   \n",
       "\n",
       "                 pd_ts        date  \n",
       "0  2018-07-05 00:49:16  2018-07-05  \n",
       "1  2018-07-05 00:49:18  2018-07-05  \n",
       "2  2018-07-05 00:49:03  2018-07-05  \n",
       "4  2018-07-05 00:49:45  2018-07-05  \n",
       "10 2018-07-05 00:49:34  2018-07-05  "
      ]
     },
     "execution_count": 10,
     "metadata": {},
     "output_type": "execute_result"
    }
   ],
   "source": [
    "dataAttack.head()"
   ]
  },
  {
   "cell_type": "code",
   "execution_count": 139,
   "metadata": {},
   "outputs": [
    {
     "data": {
      "text/plain": [
       "11954577"
      ]
     },
     "execution_count": 139,
     "metadata": {},
     "output_type": "execute_result"
    }
   ],
   "source": [
    "len(listresolvedDomains)"
   ]
  },
  {
   "cell_type": "code",
   "execution_count": 140,
   "metadata": {},
   "outputs": [],
   "source": [
    "subdomains = []\n",
    "\n",
    "# for dom in dataAttackRemotlyAnwhere['qname']:\n",
    "for dom in dataAttack['qname']:\n",
    "    labels = tldextract.extract(dom)\n",
    "    if labels.subdomain != \"\":\n",
    "        subdomains.append(labels.subdomain)"
   ]
  },
  {
   "cell_type": "code",
   "execution_count": 141,
   "metadata": {},
   "outputs": [],
   "source": [
    "subdomains = list(set(subdomains))"
   ]
  },
  {
   "cell_type": "code",
   "execution_count": 746,
   "metadata": {},
   "outputs": [],
   "source": [
    "# malicious = list(set(malicious))"
   ]
  },
  {
   "cell_type": "code",
   "execution_count": 747,
   "metadata": {},
   "outputs": [],
   "source": [
    "# malicious = malicious[:420109]"
   ]
  },
  {
   "cell_type": "code",
   "execution_count": 142,
   "metadata": {},
   "outputs": [
    {
     "data": {
      "text/plain": [
       "311855"
      ]
     },
     "execution_count": 142,
     "metadata": {},
     "output_type": "execute_result"
    }
   ],
   "source": [
    "len(subdomains)"
   ]
  },
  {
   "cell_type": "code",
   "execution_count": 143,
   "metadata": {},
   "outputs": [],
   "source": [
    "# malicious = subdomains[:420109]\n",
    "listresolvedDomains = listresolvedDomains[:311855]"
   ]
  },
  {
   "cell_type": "code",
   "execution_count": 144,
   "metadata": {},
   "outputs": [],
   "source": [
    "malicious = subdomains"
   ]
  },
  {
   "cell_type": "code",
   "execution_count": 145,
   "metadata": {},
   "outputs": [
    {
     "data": {
      "text/plain": [
       "311855"
      ]
     },
     "execution_count": 145,
     "metadata": {},
     "output_type": "execute_result"
    }
   ],
   "source": [
    "len(malicious)"
   ]
  },
  {
   "cell_type": "code",
   "execution_count": 146,
   "metadata": {},
   "outputs": [],
   "source": [
    "def common_member(a, b): \n",
    "      \n",
    "    a_set = set(a) \n",
    "    b_set = set(b) \n",
    "      \n",
    "    # check length  \n",
    "    if len(a_set.intersection(b_set)) > 0: \n",
    "        return(a_set.intersection(b_set))   \n",
    "    else: \n",
    "        return(\"no common elements\") "
   ]
  },
  {
   "cell_type": "code",
   "execution_count": 147,
   "metadata": {},
   "outputs": [
    {
     "data": {
      "text/plain": [
       "295"
      ]
     },
     "execution_count": 147,
     "metadata": {},
     "output_type": "execute_result"
    }
   ],
   "source": [
    "common = common_member(malicious, listresolvedDomains)\n",
    "len(common)"
   ]
  },
  {
   "cell_type": "code",
   "execution_count": 148,
   "metadata": {},
   "outputs": [],
   "source": [
    "updated_malicious = pd.DataFrame(columns = ['qname', 'label'])\n",
    "updated_malicious['qname'] = malicious\n",
    "updated_malicious['label'] = 1"
   ]
  },
  {
   "cell_type": "code",
   "execution_count": 149,
   "metadata": {},
   "outputs": [],
   "source": [
    "non_malicious = pd.DataFrame(columns = ['qname', 'label'])\n",
    "non_malicious['qname'] = listresolvedDomains\n",
    "non_malicious['label'] = 0"
   ]
  },
  {
   "cell_type": "code",
   "execution_count": 150,
   "metadata": {},
   "outputs": [],
   "source": [
    "df_s = [updated_malicious, non_malicious]\n",
    "final_df = pd.concat(df_s)"
   ]
  },
  {
   "cell_type": "code",
   "execution_count": 2,
   "metadata": {},
   "outputs": [],
   "source": [
    "# final_df = pd.read_csv(\"merged1Mdata.csv\")"
   ]
  },
  {
   "cell_type": "code",
   "execution_count": 6,
   "metadata": {},
   "outputs": [],
   "source": [
    "# final_df = final_df.rename(index=str, columns={\"prefix\": \"qname\"})"
   ]
  },
  {
   "cell_type": "code",
   "execution_count": 152,
   "metadata": {},
   "outputs": [],
   "source": [
    "final_df = final_df.sample(frac=1)"
   ]
  },
  {
   "cell_type": "code",
   "execution_count": 153,
   "metadata": {},
   "outputs": [],
   "source": [
    "final_df['bigramPref'] = [\"^{0}$\".format(row['qname']) for i, row in final_df.iterrows()] "
   ]
  },
  {
   "cell_type": "code",
   "execution_count": 154,
   "metadata": {},
   "outputs": [],
   "source": [
    "final = final_df.copy()\n"
   ]
  },
  {
   "cell_type": "code",
   "execution_count": 155,
   "metadata": {},
   "outputs": [],
   "source": [
    "final['qname'] = final['qname'].astype('str')"
   ]
  },
  {
   "cell_type": "code",
   "execution_count": 156,
   "metadata": {},
   "outputs": [],
   "source": [
    "final['bigramPref'] = final['bigramPref'].astype('str')"
   ]
  },
  {
   "cell_type": "code",
   "execution_count": 157,
   "metadata": {},
   "outputs": [],
   "source": [
    "pref_len = [len(row['qname']) for i,row in final.iterrows()]\n",
    "final['pref_len'] = pref_len"
   ]
  },
  {
   "cell_type": "code",
   "execution_count": 158,
   "metadata": {},
   "outputs": [],
   "source": [
    "XAll = final[['bigramPref','pref_len','qname']]\n",
    "target = final[['label']]"
   ]
  },
  {
   "cell_type": "code",
   "execution_count": 159,
   "metadata": {},
   "outputs": [],
   "source": [
    "from sklearn.feature_extraction.text import CountVectorizer\n",
    "from sklearn.model_selection import train_test_split\n",
    "from sklearn.naive_bayes import MultinomialNB\n",
    "\n",
    "from sklearn.metrics import accuracy_score\n",
    "from sklearn.linear_model import LogisticRegression\n",
    "from sklearn import preprocessing\n",
    "from scipy.sparse import hstack\n",
    "from sklearn.feature_extraction.text import TfidfVectorizer\n",
    "from sklearn.ensemble import ExtraTreesClassifier\n",
    "from sklearn.metrics import roc_curve, auc,roc_auc_score\n",
    "from sklearn.metrics import confusion_matrix\n",
    "from sklearn.feature_selection import SelectKBest\n",
    "from sklearn.feature_selection import chi2\n",
    "\n"
   ]
  },
  {
   "cell_type": "code",
   "execution_count": 160,
   "metadata": {},
   "outputs": [],
   "source": [
    "qname_train, qname_test, label_train, label_test = train_test_split(XAll, target, test_size=0.2, random_state = 237)"
   ]
  },
  {
   "cell_type": "code",
   "execution_count": 124,
   "metadata": {},
   "outputs": [],
   "source": [
    "# qname_train.to_csv(\"preprocessedData/qname_train_edited.csv\", index = False)\n",
    "# qname_test.to_csv(\"preprocessedData/qname_test_edited.csv\", index = False)\n",
    "# label_train.to_csv(\"preprocessedData/label_train_edited.csv\", index = False)\n",
    "# label_test.to_csv(\"preprocessedData/label_test_edited.csv\", index = False)"
   ]
  },
  {
   "cell_type": "code",
   "execution_count": 161,
   "metadata": {},
   "outputs": [],
   "source": [
    "vectorizer = CountVectorizer(analyzer='char', ngram_range=(2, 2))\n",
    "X_train = vectorizer.fit_transform(qname_train['bigramPref'])\n",
    "\n"
   ]
  },
  {
   "cell_type": "code",
   "execution_count": 162,
   "metadata": {},
   "outputs": [],
   "source": [
    "combined_train_X = hstack((X_train ,np.array(qname_train['pref_len'])[:,None])).tocsr()"
   ]
  },
  {
   "cell_type": "code",
   "execution_count": 164,
   "metadata": {},
   "outputs": [],
   "source": [
    "X_test = vectorizer.transform(qname_test['bigramPref'])"
   ]
  },
  {
   "cell_type": "code",
   "execution_count": 165,
   "metadata": {},
   "outputs": [],
   "source": [
    "combined_test_X = hstack((X_test,np.array(qname_test['pref_len'])[:,None])).tocsr()"
   ]
  },
  {
   "cell_type": "code",
   "execution_count": 166,
   "metadata": {},
   "outputs": [
    {
     "data": {
      "text/plain": [
       "<124742x1647 sparse matrix of type '<class 'numpy.int64'>'\n",
       "\twith 2413023 stored elements in Compressed Sparse Row format>"
      ]
     },
     "execution_count": 166,
     "metadata": {},
     "output_type": "execute_result"
    }
   ],
   "source": [
    "combined_test_X"
   ]
  },
  {
   "cell_type": "code",
   "execution_count": 187,
   "metadata": {
    "scrolled": false
   },
   "outputs": [
    {
     "name": "stderr",
     "output_type": "stream",
     "text": [
      "C:\\Users\\Hp\\Anaconda3\\lib\\site-packages\\sklearn\\utils\\validation.py:761: DataConversionWarning: A column-vector y was passed when a 1d array was expected. Please change the shape of y to (n_samples, ), for example using ravel().\n",
      "  y = column_or_1d(y, warn=True)\n"
     ]
    },
    {
     "name": "stdout",
     "output_type": "stream",
     "text": [
      "0.75\n",
      "0.8033638967321505\n",
      "[[0.58369991 0.41630009]\n",
      " [0.0851881  0.9148119 ]]\n"
     ]
    },
    {
     "name": "stderr",
     "output_type": "stream",
     "text": [
      "C:\\Users\\Hp\\Anaconda3\\lib\\site-packages\\sklearn\\utils\\validation.py:761: DataConversionWarning: A column-vector y was passed when a 1d array was expected. Please change the shape of y to (n_samples, ), for example using ravel().\n",
      "  y = column_or_1d(y, warn=True)\n",
      "C:\\Users\\Hp\\Anaconda3\\lib\\site-packages\\sklearn\\linear_model\\sag.py:334: ConvergenceWarning: The max_iter was reached which means the coef_ did not converge\n",
      "  \"the coef_ did not converge\", ConvergenceWarning)\n"
     ]
    },
    {
     "name": "stdout",
     "output_type": "stream",
     "text": [
      "0.83\n",
      "0.9242009179917763\n",
      "[[0.79021035 0.20978965]\n",
      " [0.13418612 0.86581388]]\n"
     ]
    },
    {
     "data": {
      "image/png": "[encoded data removed]",
      "text/plain": [
       "<Figure size 720x576 with 1 Axes>"
      ]
     },
     "metadata": {},
     "output_type": "display_data"
    },
    {
     "data": {
      "image/png": "[encoded data removed]",
      "text/plain": [
       "<Figure size 576x504 with 2 Axes>"
      ]
     },
     "metadata": {},
     "output_type": "display_data"
    }
   ],
   "source": [
    "plt.figure(figsize=(10,8))\n",
    "models = [\n",
    "\n",
    "{\n",
    "    'label': 'Multinomial Naive Bayes',\n",
    "    'model': MultinomialNB(alpha= 0.001),\n",
    "},\n",
    "{\n",
    "    'label': 'Logistic Regression',\n",
    "    'model': LogisticRegression(solver= 'saga'),\n",
    "}\n",
    "]\n",
    "\n",
    "# Below for loop iterates through your models list\n",
    "for m in models:\n",
    "    model = m['model'] # select the model\n",
    "    model.fit(combined_train_X, label_train) # train the model\n",
    "    y_pred=model.predict(combined_test_X) # predict the test data\n",
    "    print(\"%.2f\" %accuracy_score(label_test ,y_pred))\n",
    "# Compute False postive rate, and True positive rate\n",
    "    y_prob = model.predict_proba(combined_test_X)[:,1]\n",
    "    fpr, tpr, thresholds = roc_curve(label_test, y_prob)\n",
    "    \n",
    "# Calculate Area under the curve to display on the plot\n",
    "    auc = roc_auc_score(label_test, y_prob)\n",
    "    print(auc)   \n",
    "\n",
    "    cm = confusion_matrix(label_test, y_pred)\n",
    "    cm = cm.astype('float') / cm.sum(axis=1)[:, np.newaxis]\n",
    "    print(cm)\n",
    "# Now, plot the computed values\n",
    "    plt.plot(fpr, tpr, label='%s ROC (area = %0.2f)' % (m['label'], auc))\n",
    "# Custom settings for the plot \n",
    "\n",
    "plt.plot([0, 1], [0, 1],'r--')\n",
    "plt.xlim([0.0, 1.0])\n",
    "plt.ylim([0.0, 1.05])\n",
    "plt.xticks(fontsize=18)\n",
    "plt.yticks(fontsize = 18)\n",
    "plt.xlabel('1-Specificity(False Positive Rate)', fontsize = 18)\n",
    "plt.ylabel('Sensitivity(True Positive Rate)',fontsize = 18)\n",
    "plt.title('Receiver Operating Characteristic ',fontsize = 18)\n",
    "plt.legend(loc=\"lower right\",fontsize = 13)\n",
    "plt.show()   # Display\n",
    "\n",
    "plt.figure(figsize=(8,7))\n",
    "sns.set(font_scale=1.4)\n",
    "ax= plt.subplot()\n",
    "sns.heatmap(cm, annot=True, ax = ax, annot_kws={\"size\": 16}); #annot=True to annotate cells\n",
    "\n",
    "# labels, title and ticks\n",
    "# sns.set_context(rc={\"font.size\":20,\"axes.titlesize\":20,\"axes.labelsize\":20}) \n",
    "ax.set_xlabel('Predicted labels',fontsize = 17);ax.set_ylabel('True labels',fontsize=17); \n",
    "ax.set_title('Confusion Matrix',fontsize=20); \n",
    "ax.xaxis.set_ticklabels(['non-malicious', 'slowdrip'],fontsize = 15);\n",
    "ax.yaxis.set_ticklabels(['non-malicious', 'slowdrip'],fontsize = 15);\n",
    "\n",
    "\n",
    "# fig = ax.get_figure()\n",
    "# fig.savefig(\"conf.png\",dpi = 200)"
   ]
  },
  {
   "cell_type": "code",
   "execution_count": null,
   "metadata": {},
   "outputs": [],
   "source": []
  },
  {
   "cell_type": "code",
   "execution_count": null,
   "metadata": {},
   "outputs": [],
   "source": []
  }
 ],
 "metadata": {
  "kernelspec": {
   "display_name": "Python 3",
   "language": "python",
   "name": "python3"
  },
  "language_info": {
   "codemirror_mode": {
    "name": "ipython",
    "version": 3
   },
   "file_extension": ".py",
   "mimetype": "text/x-python",
   "name": "python",
   "nbconvert_exporter": "python",
   "pygments_lexer": "ipython3",
   "version": "3.6.6"
  }
 },
 "nbformat": 4,
 "nbformat_minor": 2
}
