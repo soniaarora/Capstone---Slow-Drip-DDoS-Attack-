{
 "cells": [
  {
   "cell_type": "code",
   "execution_count": 15,
   "metadata": {},
   "outputs": [],
   "source": [
    "from sklearn.feature_extraction.text import CountVectorizer\n",
    "from sklearn.model_selection import train_test_split\n",
    "from sklearn.naive_bayes import MultinomialNB\n",
    "\n",
    "from sklearn.metrics import accuracy_score\n",
    "from sklearn.linear_model import LogisticRegression\n",
    "from sklearn import preprocessing\n",
    "from scipy.sparse import hstack\n",
    "from sklearn.feature_extraction.text import TfidfVectorizer\n",
    "from sklearn.ensemble import ExtraTreesClassifier\n",
    "from sklearn.metrics import roc_curve, auc,roc_auc_score\n",
    "from sklearn.metrics import confusion_matrix\n",
    "from sklearn.feature_selection import SelectKBest\n",
    "from sklearn.feature_selection import chi2\n",
    "from sklearn.feature_selection import SelectFromModel\n",
    "import pandas as pd\n",
    "import numpy as np\n",
    "import matplotlib.pyplot as plt\n",
    "# import seaborn as sns"
   ]
  },
  {
   "cell_type": "code",
   "execution_count": 4,
   "metadata": {},
   "outputs": [],
   "source": [
    "final_df = pd.read_csv(\"mergedData(negative&positive).csv\")\n",
    "\n",
    "\n",
    "final_df = final_df.sample(frac=1)\n",
    "\n",
    "final_df['bigramPref'] = [\"^{0}$\".format(row['prefix']) for i, row in final_df.iterrows()] \n",
    "\n",
    "final = final_df.copy()\n",
    "\n",
    "final['prefix'] = final['prefix'].astype('str')\n",
    "\n",
    "final['bigramPref'] = final['bigramPref'].astype('str')\n",
    "\n"
   ]
  },
  {
   "cell_type": "code",
   "execution_count": 6,
   "metadata": {},
   "outputs": [
    {
     "data": {
      "text/html": [
       "<div>\n",
       "<style scoped>\n",
       "    .dataframe tbody tr th:only-of-type {\n",
       "        vertical-align: middle;\n",
       "    }\n",
       "\n",
       "    .dataframe tbody tr th {\n",
       "        vertical-align: top;\n",
       "    }\n",
       "\n",
       "    .dataframe thead th {\n",
       "        text-align: right;\n",
       "    }\n",
       "</style>\n",
       "<table border=\"1\" class=\"dataframe\">\n",
       "  <thead>\n",
       "    <tr style=\"text-align: right;\">\n",
       "      <th></th>\n",
       "      <th>prefix</th>\n",
       "      <th>label</th>\n",
       "      <th>bigramPref</th>\n",
       "      <th>pref_len</th>\n",
       "    </tr>\n",
       "  </thead>\n",
       "  <tbody>\n",
       "    <tr>\n",
       "      <th>7967132</th>\n",
       "      <td>labs.133-116</td>\n",
       "      <td>1</td>\n",
       "      <td>^labs.133-116$</td>\n",
       "      <td>12</td>\n",
       "    </tr>\n",
       "    <tr>\n",
       "      <th>19862940</th>\n",
       "      <td>mta34bdfaa75cd4</td>\n",
       "      <td>0</td>\n",
       "      <td>^mta34bdfaa75cd4$</td>\n",
       "      <td>15</td>\n",
       "    </tr>\n",
       "    <tr>\n",
       "      <th>1989420</th>\n",
       "      <td>guojiyuleshangwuhuisuo</td>\n",
       "      <td>1</td>\n",
       "      <td>^guojiyuleshangwuhuisuo$</td>\n",
       "      <td>22</td>\n",
       "    </tr>\n",
       "    <tr>\n",
       "      <th>7925342</th>\n",
       "      <td>153-149.microscope</td>\n",
       "      <td>1</td>\n",
       "      <td>^153-149.microscope$</td>\n",
       "      <td>18</td>\n",
       "    </tr>\n",
       "    <tr>\n",
       "      <th>5969272</th>\n",
       "      <td>doc-qta</td>\n",
       "      <td>1</td>\n",
       "      <td>^doc-qta$</td>\n",
       "      <td>7</td>\n",
       "    </tr>\n",
       "  </tbody>\n",
       "</table>\n",
       "</div>"
      ],
      "text/plain": [
       "                          prefix  label                bigramPref  pref_len\n",
       "7967132             labs.133-116      1            ^labs.133-116$        12\n",
       "19862940         mta34bdfaa75cd4      0         ^mta34bdfaa75cd4$        15\n",
       "1989420   guojiyuleshangwuhuisuo      1  ^guojiyuleshangwuhuisuo$        22\n",
       "7925342       153-149.microscope      1      ^153-149.microscope$        18\n",
       "5969272                  doc-qta      1                 ^doc-qta$         7"
      ]
     },
     "execution_count": 6,
     "metadata": {},
     "output_type": "execute_result"
    }
   ],
   "source": [
    "final.head()"
   ]
  },
  {
   "cell_type": "code",
   "execution_count": 5,
   "metadata": {},
   "outputs": [],
   "source": [
    "pref_len = [len(row['prefix']) for i,row in final.iterrows()]\n",
    "\n",
    "final['pref_len'] = pref_len\n",
    "\n",
    "XAll = final[['bigramPref','pref_len','prefix']]\n",
    "target = final[['label']]\n",
    "qname_train, qname_test, label_train, label_test = train_test_split(XAll, target, test_size=0.2, random_state = 1234)"
   ]
  },
  {
   "cell_type": "code",
   "execution_count": 7,
   "metadata": {},
   "outputs": [
    {
     "data": {
      "text/html": [
       "<div>\n",
       "<style scoped>\n",
       "    .dataframe tbody tr th:only-of-type {\n",
       "        vertical-align: middle;\n",
       "    }\n",
       "\n",
       "    .dataframe tbody tr th {\n",
       "        vertical-align: top;\n",
       "    }\n",
       "\n",
       "    .dataframe thead th {\n",
       "        text-align: right;\n",
       "    }\n",
       "</style>\n",
       "<table border=\"1\" class=\"dataframe\">\n",
       "  <thead>\n",
       "    <tr style=\"text-align: right;\">\n",
       "      <th></th>\n",
       "      <th>bigramPref</th>\n",
       "      <th>pref_len</th>\n",
       "      <th>prefix</th>\n",
       "    </tr>\n",
       "  </thead>\n",
       "  <tbody>\n",
       "    <tr>\n",
       "      <th>15169600</th>\n",
       "      <td>^u9fzeucr8rlfmkusglcybaaojeao81520714903$</td>\n",
       "      <td>39</td>\n",
       "      <td>u9fzeucr8rlfmkusglcybaaojeao81520714903</td>\n",
       "    </tr>\n",
       "    <tr>\n",
       "      <th>15267837</th>\n",
       "      <td>^tecnologiabolivia$</td>\n",
       "      <td>17</td>\n",
       "      <td>tecnologiabolivia</td>\n",
       "    </tr>\n",
       "    <tr>\n",
       "      <th>17222667</th>\n",
       "      <td>^1-b53f3f278b81d80a4384aac19c3d6c0e$</td>\n",
       "      <td>34</td>\n",
       "      <td>1-b53f3f278b81d80a4384aac19c3d6c0e</td>\n",
       "    </tr>\n",
       "    <tr>\n",
       "      <th>19932416</th>\n",
       "      <td>^r-t-aiv4w954k3report$</td>\n",
       "      <td>20</td>\n",
       "      <td>r-t-aiv4w954k3report</td>\n",
       "    </tr>\n",
       "    <tr>\n",
       "      <th>7259666</th>\n",
       "      <td>^142-205-sourcegraph$</td>\n",
       "      <td>19</td>\n",
       "      <td>142-205-sourcegraph</td>\n",
       "    </tr>\n",
       "  </tbody>\n",
       "</table>\n",
       "</div>"
      ],
      "text/plain": [
       "                                         bigramPref  pref_len  \\\n",
       "15169600  ^u9fzeucr8rlfmkusglcybaaojeao81520714903$        39   \n",
       "15267837                        ^tecnologiabolivia$        17   \n",
       "17222667       ^1-b53f3f278b81d80a4384aac19c3d6c0e$        34   \n",
       "19932416                     ^r-t-aiv4w954k3report$        20   \n",
       "7259666                       ^142-205-sourcegraph$        19   \n",
       "\n",
       "                                           prefix  \n",
       "15169600  u9fzeucr8rlfmkusglcybaaojeao81520714903  \n",
       "15267837                        tecnologiabolivia  \n",
       "17222667       1-b53f3f278b81d80a4384aac19c3d6c0e  \n",
       "19932416                     r-t-aiv4w954k3report  \n",
       "7259666                       142-205-sourcegraph  "
      ]
     },
     "execution_count": 7,
     "metadata": {},
     "output_type": "execute_result"
    }
   ],
   "source": [
    "qname_train.head()"
   ]
  },
  {
   "cell_type": "code",
   "execution_count": 8,
   "metadata": {},
   "outputs": [],
   "source": [
    "vectorizer = CountVectorizer(analyzer='char', ngram_range=(2, 2))\n",
    "X_train = vectorizer.fit_transform(qname_train['bigramPref'])\n",
    "\n",
    "combined_train_X = hstack((X_train ,np.array(qname_train['pref_len'])[:,None])).tocsr()\n",
    "\n",
    "X_test = vectorizer.transform(qname_test['bigramPref'])\n",
    "combined_test_X = hstack((X_test,np.array(qname_test['pref_len'])[:,None])).tocsr()\n"
   ]
  },
  {
   "cell_type": "code",
   "execution_count": 27,
   "metadata": {},
   "outputs": [
    {
     "name": "stderr",
     "output_type": "stream",
     "text": [
      "/usr/local/lib/python3.6/dist-packages/sklearn/utils/validation.py:761: DataConversionWarning: A column-vector y was passed when a 1d array was expected. Please change the shape of y to (n_samples, ), for example using ravel().\n",
      "  y = column_or_1d(y, warn=True)\n"
     ]
    },
    {
     "name": "stdout",
     "output_type": "stream",
     "text": [
      "0.73\n",
      "0.8931908679796841\n"
     ]
    },
    {
     "name": "stderr",
     "output_type": "stream",
     "text": [
      "/usr/local/lib/python3.6/dist-packages/sklearn/utils/validation.py:761: DataConversionWarning: A column-vector y was passed when a 1d array was expected. Please change the shape of y to (n_samples, ), for example using ravel().\n",
      "  y = column_or_1d(y, warn=True)\n",
      "/usr/local/lib/python3.6/dist-packages/sklearn/linear_model/sag.py:334: ConvergenceWarning: The max_iter was reached which means the coef_ did not converge\n",
      "  \"the coef_ did not converge\", ConvergenceWarning)\n"
     ]
    },
    {
     "name": "stdout",
     "output_type": "stream",
     "text": [
      "0.90\n",
      "0.9686337766781241\n"
     ]
    },
    {
     "data": {
      "image/png": "[encoded data removed]",
      "text/plain": [
       "<Figure size 720x576 with 1 Axes>"
      ]
     },
     "metadata": {
      "needs_background": "light"
     },
     "output_type": "display_data"
    },
    {
     "name": "stdout",
     "output_type": "stream",
     "text": [
      "Normalized confusion matrix\n"
     ]
    },
    {
     "data": {
      "text/plain": [
       "<Figure size 432x288 with 0 Axes>"
      ]
     },
     "metadata": {},
     "output_type": "display_data"
    },
    {
     "data": {
      "image/png": "[encoded data removed]",
      "text/plain": [
       "<Figure size 720x720 with 1 Axes>"
      ]
     },
     "metadata": {
      "needs_background": "light"
     },
     "output_type": "display_data"
    }
   ],
   "source": [
    "buildModel(combined_train_X, combined_test_X, label_train, label_test)"
   ]
  },
  {
   "cell_type": "code",
   "execution_count": 26,
   "metadata": {},
   "outputs": [],
   "source": [
    "def buildModel(combined_train_X, combined_test_X, label_train, label_test):\n",
    "    plt.figure(figsize=(10,8))\n",
    "    models = [\n",
    "\n",
    "    {\n",
    "        'label': 'Multinomial Naive Bayes',\n",
    "        'model': MultinomialNB(alpha= 0.001),\n",
    "    },\n",
    "    {\n",
    "        'label': 'Logistic Regression',\n",
    "        'model': LogisticRegression(solver= 'saga'),\n",
    "    }\n",
    "    ]\n",
    "\n",
    "    # Below for loop iterates through your models list\n",
    "    for m in models:\n",
    "        model = m['model'] # select the model\n",
    "        model.fit(combined_train_X, label_train) # train the model\n",
    "        y_pred=model.predict(combined_test_X) # predict the test data\n",
    "        print(\"%.2f\" %accuracy_score(label_test ,y_pred))\n",
    "    # Compute False postive rate, and True positive rate\n",
    "        y_prob = model.predict_proba(combined_test_X)[:,1]\n",
    "        fpr, tpr, thresholds = roc_curve(label_test, y_prob)\n",
    "\n",
    "    # Calculate Area under the curve to display on the plot\n",
    "        auc = roc_auc_score(label_test, y_prob)\n",
    "        print(auc)\n",
    "        plt.plot(fpr, tpr, label='%s ROC (area = %0.2f)' % (m['label'], auc))\n",
    "\n",
    "#         CM = confusion_matrix(label_test, y_pred)\n",
    "#         CM = CM.astype('float') / CM.sum(axis=1)[:, np.newaxis]\n",
    "#         print(CM)\n",
    "#     # Now, plot the computed values\n",
    "#         plt.plot(fpr, tpr, label='%s ROC (area = %0.2f)' % (m['label'], auc))\n",
    "    # Custom settings for the plot \n",
    "    plt.plot([0, 1], [0, 1],'r--')\n",
    "    plt.xlim([0.0, 1.0])\n",
    "    plt.ylim([0.0, 1.05])\n",
    "    plt.xticks(fontsize=18)\n",
    "    plt.yticks(fontsize = 18)\n",
    "    plt.xlabel('1-Specificity(False Positive Rate)', fontsize = 18)\n",
    "    plt.ylabel('Sensitivity(True Positive Rate)',fontsize = 18)\n",
    "    plt.title('Receiver Operating Characteristic ',fontsize = 18)\n",
    "    plt.legend(loc=\"lower right\",fontsize = 13)\n",
    "    plt.show()\n",
    "    \n",
    "    plt.savefig(\"/home/sonia90/capstone/prefixesData/ROC.png\",dpi = 200)  # Display\n",
    "    plt.rcParams.update({'font.size': 22})\n",
    "    \n",
    "    plot_confusion_matrix(label_test, y_pred, cmap=plt.cm.Blues)\n",
    "\n",
    "#     plt.figure(figsize=(8,7))\n",
    "#     sns.set(font_scale=1.4)\n",
    "#     ax= plt.subplot()\n",
    "#     sns.heatmap(cm, annot=True, ax = ax, annot_kws={\"size\": 16}); #annot=True to annotate cells\n",
    "\n",
    "#     # labels, title and ticks\n",
    "#     # sns.set_context(rc={\"font.size\":20,\"axes.titlesize\":20,\"axes.labelsize\":20}) \n",
    "#     ax.set_xlabel('Predicted labels',fontsize = 17);ax.set_ylabel('True labels',fontsize=17); \n",
    "#     ax.set_title('Confusion Matrix',fontsize=20); \n",
    "#     ax.xaxis.set_ticklabels(['non-malicious', 'slowdrip'],fontsize = 15);\n",
    "#     ax.yaxis.set_ticklabels(['non-malicious', 'slowdrip'],fontsize = 15);\n",
    "    "
   ]
  },
  {
   "cell_type": "code",
   "execution_count": 24,
   "metadata": {},
   "outputs": [],
   "source": [
    "def plot_confusion_matrix(y_true, y_pred, \n",
    "                          normalize=True,                          \n",
    "                          cmap=plt.cm.Blues):\n",
    "    \n",
    "    \"\"\"\n",
    "    This function prints and plots the confusion matrix.\n",
    "    Normalization can be applied by setting `normalize=True`.\n",
    "    \"\"\"\n",
    "#     if not title:\n",
    "#         if normalize:\n",
    "#             title = 'Normalized confusion matrix'\n",
    "#         else:\n",
    "#             title = 'Confusion matrix, without normalization'\n",
    "\n",
    "    # Compute confusion matrix\n",
    "    \n",
    "    cm = confusion_matrix(y_true, y_pred)\n",
    "    # Only use the labels that appear in the data\n",
    "    classes = ['non-malicious', 'slowdrip']\n",
    "    if normalize:\n",
    "        cm = cm.astype('float') / cm.sum(axis=1)[:, np.newaxis]\n",
    "        print(\"Normalized confusion matrix\")\n",
    "    else:\n",
    "        print('Confusion matrix, without normalization')\n",
    "\n",
    "#     print(cm)\n",
    "\n",
    "    fig, ax = plt.subplots(figsize=(10, 10))\n",
    "    im = ax.imshow(cm, interpolation='nearest', cmap=cmap)\n",
    "#     ax.figure.colorbar(im, ax=ax)\n",
    "    # We want to show all ticks...\n",
    "    ax.set(xticks=np.arange(cm.shape[1]),\n",
    "           yticks=np.arange(cm.shape[0]),\n",
    "           # ... and label them with the respective list entries\n",
    "           xticklabels=classes, yticklabels=classes,\n",
    "#            /title=title,\n",
    "           ylabel='True label',\n",
    "           xlabel='Predicted label')\n",
    "\n",
    "    # Rotate the tick labels and set their alignment.\n",
    "#     plt.setp(ax.get_xticklabels())\n",
    "\n",
    "    # Loop over data dimensions and create text annotations.\n",
    "    fmt = '.2f' if normalize else 'd'\n",
    "    thresh = cm.max() / 2.\n",
    "    for i in range(cm.shape[0]):\n",
    "        for j in range(cm.shape[1]):\n",
    "            ax.text(j, i, format(cm[i, j], fmt), ha=\"center\", va=\"center\",fontsize = 20,\n",
    "                    color=\"white\" if cm[i, j] > thresh else \"black\")\n",
    "    fig.tight_layout()\n",
    "    return ax\n",
    "\n"
   ]
  },
  {
   "cell_type": "code",
   "execution_count": null,
   "metadata": {},
   "outputs": [],
   "source": []
  }
 ],
 "metadata": {
  "kernelspec": {
   "display_name": "Python 3",
   "language": "python",
   "name": "python3"
  },
  "language_info": {
   "codemirror_mode": {
    "name": "ipython",
    "version": 3
   },
   "file_extension": ".py",
   "mimetype": "text/x-python",
   "name": "python",
   "nbconvert_exporter": "python",
   "pygments_lexer": "ipython3",
   "version": "3.6.7"
  }
 },
 "nbformat": 4,
 "nbformat_minor": 2
}
