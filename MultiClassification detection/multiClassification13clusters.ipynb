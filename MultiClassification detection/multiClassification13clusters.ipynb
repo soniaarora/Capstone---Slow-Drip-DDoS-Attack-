{
 "cells": [
  {
   "cell_type": "code",
   "execution_count": 1,
   "metadata": {},
   "outputs": [],
   "source": [
    "import numpy as np\n",
    "import matplotlib\n",
    "\n",
    "import matplotlib.pyplot as plt\n",
    "\n",
    "import matplotlib.pyplot as figure\n",
    "import seaborn as sns  # you might not have this installed -- it makes graphs prettier and sometimes easier\n",
    "# %matplotlib inline \n",
    "import umap\n",
    "import tldextract\n",
    "from sklearn.preprocessing import StandardScaler\n",
    "import pandas as pd\n",
    "import publicsuffixlist as psl\n",
    "import os\n",
    "from tqdm import tqdm_notebook\n",
    "from sklearn import preprocessing\n",
    "from random import sample\n",
    "import glob, os \n",
    "import pandas as pd\n",
    "from sklearn.feature_extraction.text import TfidfVectorizer\n",
    "from sklearn.datasets.samples_generator import make_blobs\n",
    "from sklearn.decomposition import TruncatedSVD\n",
    "from sklearn.feature_extraction.text import CountVectorizer\n",
    "import hdbscan\n",
    "from scipy.sparse import hstack\n",
    "from random import sample\n",
    "from sklearn.cluster import DBSCAN\n",
    "import pickle"
   ]
  },
  {
   "cell_type": "code",
   "execution_count": 4,
   "metadata": {},
   "outputs": [],
   "source": [
    "textFile = pd.read_csv(\"dataFromReneeNewFile(each60K).csv\")"
   ]
  },
  {
   "cell_type": "code",
   "execution_count": 5,
   "metadata": {},
   "outputs": [],
   "source": [
    "textFile = textFile.drop_duplicates()"
   ]
  },
  {
   "cell_type": "code",
   "execution_count": 6,
   "metadata": {},
   "outputs": [
    {
     "data": {
      "text/plain": [
       "-1    586234\n",
       " 7    208785\n",
       " 4    119491\n",
       " 0    109330\n",
       " 3     60000\n",
       " 1     60000\n",
       "Name: LABELS, dtype: int64"
      ]
     },
     "execution_count": 6,
     "metadata": {},
     "output_type": "execute_result"
    }
   ],
   "source": [
    "textFile.LABELS.value_counts() "
   ]
  },
  {
   "cell_type": "code",
   "execution_count": 7,
   "metadata": {},
   "outputs": [],
   "source": [
    "textFile = textFile.sample(frac=1,random_state= 290)"
   ]
  },
  {
   "cell_type": "code",
   "execution_count": 8,
   "metadata": {},
   "outputs": [
    {
     "data": {
      "text/html": [
       "<div>\n",
       "<style scoped>\n",
       "    .dataframe tbody tr th:only-of-type {\n",
       "        vertical-align: middle;\n",
       "    }\n",
       "\n",
       "    .dataframe tbody tr th {\n",
       "        vertical-align: top;\n",
       "    }\n",
       "\n",
       "    .dataframe thead th {\n",
       "        text-align: right;\n",
       "    }\n",
       "</style>\n",
       "<table border=\"1\" class=\"dataframe\">\n",
       "  <thead>\n",
       "    <tr style=\"text-align: right;\">\n",
       "      <th></th>\n",
       "      <th>prefix</th>\n",
       "      <th>LABELS</th>\n",
       "      <th>bigramPref</th>\n",
       "      <th>pref_len</th>\n",
       "    </tr>\n",
       "  </thead>\n",
       "  <tbody>\n",
       "    <tr>\n",
       "      <th>616445</th>\n",
       "      <td>dlw167-2.vault.qa</td>\n",
       "      <td>1</td>\n",
       "      <td>^dlw167-2.vault.qa$</td>\n",
       "      <td>17</td>\n",
       "    </tr>\n",
       "    <tr>\n",
       "      <th>1196870</th>\n",
       "      <td>wwwle.affiliate-dev</td>\n",
       "      <td>4</td>\n",
       "      <td>^wwwle.affiliate-dev$</td>\n",
       "      <td>19</td>\n",
       "    </tr>\n",
       "    <tr>\n",
       "      <th>40700</th>\n",
       "      <td>www.livio</td>\n",
       "      <td>7</td>\n",
       "      <td>^www.livio$</td>\n",
       "      <td>9</td>\n",
       "    </tr>\n",
       "    <tr>\n",
       "      <th>564441</th>\n",
       "      <td>ns123.is.stage</td>\n",
       "      <td>-1</td>\n",
       "      <td>^ns123.is.stage$</td>\n",
       "      <td>14</td>\n",
       "    </tr>\n",
       "    <tr>\n",
       "      <th>1139107</th>\n",
       "      <td>bestkim99</td>\n",
       "      <td>0</td>\n",
       "      <td>^bestkim99$</td>\n",
       "      <td>9</td>\n",
       "    </tr>\n",
       "    <tr>\n",
       "      <th>505937</th>\n",
       "      <td>manohar</td>\n",
       "      <td>0</td>\n",
       "      <td>^manohar$</td>\n",
       "      <td>7</td>\n",
       "    </tr>\n",
       "    <tr>\n",
       "      <th>197861</th>\n",
       "      <td>gamma.r3</td>\n",
       "      <td>-1</td>\n",
       "      <td>^gamma.r3$</td>\n",
       "      <td>8</td>\n",
       "    </tr>\n",
       "    <tr>\n",
       "      <th>158078</th>\n",
       "      <td>sni237411</td>\n",
       "      <td>7</td>\n",
       "      <td>^sni237411$</td>\n",
       "      <td>9</td>\n",
       "    </tr>\n",
       "    <tr>\n",
       "      <th>1012360</th>\n",
       "      <td>cjoalert</td>\n",
       "      <td>-1</td>\n",
       "      <td>^cjoalert$</td>\n",
       "      <td>8</td>\n",
       "    </tr>\n",
       "    <tr>\n",
       "      <th>1016120</th>\n",
       "      <td>demokol</td>\n",
       "      <td>-1</td>\n",
       "      <td>^demokol$</td>\n",
       "      <td>7</td>\n",
       "    </tr>\n",
       "    <tr>\n",
       "      <th>757001</th>\n",
       "      <td>babilunyulechengzaixiandubo._tls</td>\n",
       "      <td>-1</td>\n",
       "      <td>^babilunyulechengzaixiandubo._tls$</td>\n",
       "      <td>32</td>\n",
       "    </tr>\n",
       "    <tr>\n",
       "      <th>1050324</th>\n",
       "      <td>sr-fr-122-119</td>\n",
       "      <td>-1</td>\n",
       "      <td>^sr-fr-122-119$</td>\n",
       "      <td>13</td>\n",
       "    </tr>\n",
       "    <tr>\n",
       "      <th>1198992</th>\n",
       "      <td>cwc</td>\n",
       "      <td>4</td>\n",
       "      <td>^cwc$</td>\n",
       "      <td>3</td>\n",
       "    </tr>\n",
       "    <tr>\n",
       "      <th>639690</th>\n",
       "      <td>hyip-investmentonline.envoy.eastus2.prod</td>\n",
       "      <td>1</td>\n",
       "      <td>^hyip-investmentonline.envoy.eastus2.prod$</td>\n",
       "      <td>40</td>\n",
       "    </tr>\n",
       "    <tr>\n",
       "      <th>897588</th>\n",
       "      <td>imming</td>\n",
       "      <td>7</td>\n",
       "      <td>^imming$</td>\n",
       "      <td>6</td>\n",
       "    </tr>\n",
       "    <tr>\n",
       "      <th>814486</th>\n",
       "      <td>dkiio</td>\n",
       "      <td>-1</td>\n",
       "      <td>^dkiio$</td>\n",
       "      <td>5</td>\n",
       "    </tr>\n",
       "    <tr>\n",
       "      <th>415950</th>\n",
       "      <td>r1---sn-4g5ednld</td>\n",
       "      <td>-1</td>\n",
       "      <td>^r1---sn-4g5ednld$</td>\n",
       "      <td>16</td>\n",
       "    </tr>\n",
       "    <tr>\n",
       "      <th>832369</th>\n",
       "      <td>fsemk</td>\n",
       "      <td>-1</td>\n",
       "      <td>^fsemk$</td>\n",
       "      <td>5</td>\n",
       "    </tr>\n",
       "    <tr>\n",
       "      <th>770012</th>\n",
       "      <td>da209</td>\n",
       "      <td>-1</td>\n",
       "      <td>^da209$</td>\n",
       "      <td>5</td>\n",
       "    </tr>\n",
       "    <tr>\n",
       "      <th>618548</th>\n",
       "      <td>185-215.nomad.southcentralus.qa</td>\n",
       "      <td>1</td>\n",
       "      <td>^185-215.nomad.southcentralus.qa$</td>\n",
       "      <td>31</td>\n",
       "    </tr>\n",
       "    <tr>\n",
       "      <th>1104591</th>\n",
       "      <td>mail-mobile.uat</td>\n",
       "      <td>0</td>\n",
       "      <td>^mail-mobile.uat$</td>\n",
       "      <td>15</td>\n",
       "    </tr>\n",
       "    <tr>\n",
       "      <th>879166</th>\n",
       "      <td>mail.3</td>\n",
       "      <td>7</td>\n",
       "      <td>^mail.3$</td>\n",
       "      <td>6</td>\n",
       "    </tr>\n",
       "    <tr>\n",
       "      <th>489377</th>\n",
       "      <td>pkg.stage</td>\n",
       "      <td>0</td>\n",
       "      <td>^pkg.stage$</td>\n",
       "      <td>9</td>\n",
       "    </tr>\n",
       "    <tr>\n",
       "      <th>1161935</th>\n",
       "      <td>ikm.host-stage</td>\n",
       "      <td>4</td>\n",
       "      <td>^ikm.host-stage$</td>\n",
       "      <td>14</td>\n",
       "    </tr>\n",
       "    <tr>\n",
       "      <th>717955</th>\n",
       "      <td>workercompensationbook</td>\n",
       "      <td>-1</td>\n",
       "      <td>^workercompensationbook$</td>\n",
       "      <td>22</td>\n",
       "    </tr>\n",
       "    <tr>\n",
       "      <th>794427</th>\n",
       "      <td>hagu</td>\n",
       "      <td>-1</td>\n",
       "      <td>^hagu$</td>\n",
       "      <td>4</td>\n",
       "    </tr>\n",
       "    <tr>\n",
       "      <th>890947</th>\n",
       "      <td>essc</td>\n",
       "      <td>7</td>\n",
       "      <td>^essc$</td>\n",
       "      <td>4</td>\n",
       "    </tr>\n",
       "    <tr>\n",
       "      <th>103336</th>\n",
       "      <td>api09-7-4.admin</td>\n",
       "      <td>4</td>\n",
       "      <td>^api09-7-4.admin$</td>\n",
       "      <td>15</td>\n",
       "    </tr>\n",
       "    <tr>\n",
       "      <th>198377</th>\n",
       "      <td>rd.8c</td>\n",
       "      <td>-1</td>\n",
       "      <td>^rd.8c$</td>\n",
       "      <td>5</td>\n",
       "    </tr>\n",
       "    <tr>\n",
       "      <th>371671</th>\n",
       "      <td>sni64568</td>\n",
       "      <td>-1</td>\n",
       "      <td>^sni64568$</td>\n",
       "      <td>8</td>\n",
       "    </tr>\n",
       "    <tr>\n",
       "      <th>...</th>\n",
       "      <td>...</td>\n",
       "      <td>...</td>\n",
       "      <td>...</td>\n",
       "      <td>...</td>\n",
       "    </tr>\n",
       "    <tr>\n",
       "      <th>1197552</th>\n",
       "      <td>nevis.hostadvance</td>\n",
       "      <td>4</td>\n",
       "      <td>^nevis.hostadvance$</td>\n",
       "      <td>17</td>\n",
       "    </tr>\n",
       "    <tr>\n",
       "      <th>1062888</th>\n",
       "      <td>10c4a.data-08</td>\n",
       "      <td>-1</td>\n",
       "      <td>^10c4a.data-08$</td>\n",
       "      <td>13</td>\n",
       "    </tr>\n",
       "    <tr>\n",
       "      <th>299631</th>\n",
       "      <td>schutting</td>\n",
       "      <td>-1</td>\n",
       "      <td>^schutting$</td>\n",
       "      <td>9</td>\n",
       "    </tr>\n",
       "    <tr>\n",
       "      <th>653140</th>\n",
       "      <td>2250.envoy.eastus2.qa</td>\n",
       "      <td>1</td>\n",
       "      <td>^2250.envoy.eastus2.qa$</td>\n",
       "      <td>21</td>\n",
       "    </tr>\n",
       "    <tr>\n",
       "      <th>44661</th>\n",
       "      <td>www.idmsa.i.cloud.com.idmswebauth-login</td>\n",
       "      <td>7</td>\n",
       "      <td>^www.idmsa.i.cloud.com.idmswebauth-login$</td>\n",
       "      <td>39</td>\n",
       "    </tr>\n",
       "    <tr>\n",
       "      <th>430942</th>\n",
       "      <td>mcf.gsfc</td>\n",
       "      <td>-1</td>\n",
       "      <td>^mcf.gsfc$</td>\n",
       "      <td>8</td>\n",
       "    </tr>\n",
       "    <tr>\n",
       "      <th>1151891</th>\n",
       "      <td>fixforthcomingblogsorder.findyourpark</td>\n",
       "      <td>4</td>\n",
       "      <td>^fixforthcomingblogsorder.findyourpark$</td>\n",
       "      <td>37</td>\n",
       "    </tr>\n",
       "    <tr>\n",
       "      <th>700868</th>\n",
       "      <td>www.auto-likers</td>\n",
       "      <td>-1</td>\n",
       "      <td>^www.auto-likers$</td>\n",
       "      <td>15</td>\n",
       "    </tr>\n",
       "    <tr>\n",
       "      <th>79410</th>\n",
       "      <td>isit429-7.admin</td>\n",
       "      <td>4</td>\n",
       "      <td>^isit429-7.admin$</td>\n",
       "      <td>15</td>\n",
       "    </tr>\n",
       "    <tr>\n",
       "      <th>720111</th>\n",
       "      <td>ll04._tls</td>\n",
       "      <td>-1</td>\n",
       "      <td>^ll04._tls$</td>\n",
       "      <td>9</td>\n",
       "    </tr>\n",
       "    <tr>\n",
       "      <th>417790</th>\n",
       "      <td>skewdemo</td>\n",
       "      <td>-1</td>\n",
       "      <td>^skewdemo$</td>\n",
       "      <td>8</td>\n",
       "    </tr>\n",
       "    <tr>\n",
       "      <th>1076246</th>\n",
       "      <td>11-237.jukebox</td>\n",
       "      <td>-1</td>\n",
       "      <td>^11-237.jukebox$</td>\n",
       "      <td>14</td>\n",
       "    </tr>\n",
       "    <tr>\n",
       "      <th>292579</th>\n",
       "      <td>learnfrenchonline</td>\n",
       "      <td>-1</td>\n",
       "      <td>^learnfrenchonline$</td>\n",
       "      <td>17</td>\n",
       "    </tr>\n",
       "    <tr>\n",
       "      <th>705489</th>\n",
       "      <td>livestockdb</td>\n",
       "      <td>-1</td>\n",
       "      <td>^livestockdb$</td>\n",
       "      <td>11</td>\n",
       "    </tr>\n",
       "    <tr>\n",
       "      <th>411748</th>\n",
       "      <td>d13ot9o61jdzpp</td>\n",
       "      <td>-1</td>\n",
       "      <td>^d13ot9o61jdzpp$</td>\n",
       "      <td>14</td>\n",
       "    </tr>\n",
       "    <tr>\n",
       "      <th>422060</th>\n",
       "      <td>pizzi</td>\n",
       "      <td>-1</td>\n",
       "      <td>^pizzi$</td>\n",
       "      <td>5</td>\n",
       "    </tr>\n",
       "    <tr>\n",
       "      <th>90266</th>\n",
       "      <td>fantasy.m</td>\n",
       "      <td>4</td>\n",
       "      <td>^fantasy.m$</td>\n",
       "      <td>9</td>\n",
       "    </tr>\n",
       "    <tr>\n",
       "      <th>757177</th>\n",
       "      <td>jbpc</td>\n",
       "      <td>-1</td>\n",
       "      <td>^jbpc$</td>\n",
       "      <td>4</td>\n",
       "    </tr>\n",
       "    <tr>\n",
       "      <th>916481</th>\n",
       "      <td>58-162-86-1032.static.cloud</td>\n",
       "      <td>3</td>\n",
       "      <td>^58-162-86-1032.static.cloud$</td>\n",
       "      <td>27</td>\n",
       "    </tr>\n",
       "    <tr>\n",
       "      <th>1134955</th>\n",
       "      <td>hhk7092.uat</td>\n",
       "      <td>0</td>\n",
       "      <td>^hhk7092.uat$</td>\n",
       "      <td>11</td>\n",
       "    </tr>\n",
       "    <tr>\n",
       "      <th>239184</th>\n",
       "      <td>arlington.d0</td>\n",
       "      <td>-1</td>\n",
       "      <td>^arlington.d0$</td>\n",
       "      <td>12</td>\n",
       "    </tr>\n",
       "    <tr>\n",
       "      <th>789906</th>\n",
       "      <td>wumho</td>\n",
       "      <td>-1</td>\n",
       "      <td>^wumho$</td>\n",
       "      <td>5</td>\n",
       "    </tr>\n",
       "    <tr>\n",
       "      <th>1079625</th>\n",
       "      <td>14-99jira</td>\n",
       "      <td>-1</td>\n",
       "      <td>^14-99jira$</td>\n",
       "      <td>9</td>\n",
       "    </tr>\n",
       "    <tr>\n",
       "      <th>869331</th>\n",
       "      <td>astartupaday</td>\n",
       "      <td>7</td>\n",
       "      <td>^astartupaday$</td>\n",
       "      <td>12</td>\n",
       "    </tr>\n",
       "    <tr>\n",
       "      <th>90625</th>\n",
       "      <td>arr.callbacks</td>\n",
       "      <td>4</td>\n",
       "      <td>^arr.callbacks$</td>\n",
       "      <td>13</td>\n",
       "    </tr>\n",
       "    <tr>\n",
       "      <th>1070902</th>\n",
       "      <td>5-121-109</td>\n",
       "      <td>-1</td>\n",
       "      <td>^5-121-109$</td>\n",
       "      <td>9</td>\n",
       "    </tr>\n",
       "    <tr>\n",
       "      <th>15264</th>\n",
       "      <td>jporter</td>\n",
       "      <td>7</td>\n",
       "      <td>^jporter$</td>\n",
       "      <td>7</td>\n",
       "    </tr>\n",
       "    <tr>\n",
       "      <th>1150937</th>\n",
       "      <td>am-red.affiliate-stage</td>\n",
       "      <td>4</td>\n",
       "      <td>^am-red.affiliate-stage$</td>\n",
       "      <td>22</td>\n",
       "    </tr>\n",
       "    <tr>\n",
       "      <th>652303</th>\n",
       "      <td>bet365yulechenghaowanma.envoy.eastus2.prod</td>\n",
       "      <td>1</td>\n",
       "      <td>^bet365yulechenghaowanma.envoy.eastus2.prod$</td>\n",
       "      <td>42</td>\n",
       "    </tr>\n",
       "    <tr>\n",
       "      <th>1146450</th>\n",
       "      <td>liveproducing-media.nightat</td>\n",
       "      <td>4</td>\n",
       "      <td>^liveproducing-media.nightat$</td>\n",
       "      <td>27</td>\n",
       "    </tr>\n",
       "  </tbody>\n",
       "</table>\n",
       "<p>1143840 rows × 4 columns</p>\n",
       "</div>"
      ],
      "text/plain": [
       "                                             prefix  LABELS  \\\n",
       "616445                            dlw167-2.vault.qa       1   \n",
       "1196870                         wwwle.affiliate-dev       4   \n",
       "40700                                     www.livio       7   \n",
       "564441                               ns123.is.stage      -1   \n",
       "1139107                                   bestkim99       0   \n",
       "505937                                      manohar       0   \n",
       "197861                                     gamma.r3      -1   \n",
       "158078                                    sni237411       7   \n",
       "1012360                                    cjoalert      -1   \n",
       "1016120                                     demokol      -1   \n",
       "757001             babilunyulechengzaixiandubo._tls      -1   \n",
       "1050324                               sr-fr-122-119      -1   \n",
       "1198992                                         cwc       4   \n",
       "639690     hyip-investmentonline.envoy.eastus2.prod       1   \n",
       "897588                                       imming       7   \n",
       "814486                                        dkiio      -1   \n",
       "415950                             r1---sn-4g5ednld      -1   \n",
       "832369                                        fsemk      -1   \n",
       "770012                                        da209      -1   \n",
       "618548              185-215.nomad.southcentralus.qa       1   \n",
       "1104591                             mail-mobile.uat       0   \n",
       "879166                                       mail.3       7   \n",
       "489377                                    pkg.stage       0   \n",
       "1161935                              ikm.host-stage       4   \n",
       "717955                       workercompensationbook      -1   \n",
       "794427                                         hagu      -1   \n",
       "890947                                         essc       7   \n",
       "103336                              api09-7-4.admin       4   \n",
       "198377                                        rd.8c      -1   \n",
       "371671                                     sni64568      -1   \n",
       "...                                             ...     ...   \n",
       "1197552                           nevis.hostadvance       4   \n",
       "1062888                               10c4a.data-08      -1   \n",
       "299631                                    schutting      -1   \n",
       "653140                        2250.envoy.eastus2.qa       1   \n",
       "44661       www.idmsa.i.cloud.com.idmswebauth-login       7   \n",
       "430942                                     mcf.gsfc      -1   \n",
       "1151891       fixforthcomingblogsorder.findyourpark       4   \n",
       "700868                              www.auto-likers      -1   \n",
       "79410                               isit429-7.admin       4   \n",
       "720111                                    ll04._tls      -1   \n",
       "417790                                     skewdemo      -1   \n",
       "1076246                              11-237.jukebox      -1   \n",
       "292579                            learnfrenchonline      -1   \n",
       "705489                                  livestockdb      -1   \n",
       "411748                               d13ot9o61jdzpp      -1   \n",
       "422060                                        pizzi      -1   \n",
       "90266                                     fantasy.m       4   \n",
       "757177                                         jbpc      -1   \n",
       "916481                  58-162-86-1032.static.cloud       3   \n",
       "1134955                                 hhk7092.uat       0   \n",
       "239184                                 arlington.d0      -1   \n",
       "789906                                        wumho      -1   \n",
       "1079625                                   14-99jira      -1   \n",
       "869331                                 astartupaday       7   \n",
       "90625                                 arr.callbacks       4   \n",
       "1070902                                   5-121-109      -1   \n",
       "15264                                       jporter       7   \n",
       "1150937                      am-red.affiliate-stage       4   \n",
       "652303   bet365yulechenghaowanma.envoy.eastus2.prod       1   \n",
       "1146450                 liveproducing-media.nightat       4   \n",
       "\n",
       "                                           bigramPref  pref_len  \n",
       "616445                            ^dlw167-2.vault.qa$        17  \n",
       "1196870                         ^wwwle.affiliate-dev$        19  \n",
       "40700                                     ^www.livio$         9  \n",
       "564441                               ^ns123.is.stage$        14  \n",
       "1139107                                   ^bestkim99$         9  \n",
       "505937                                      ^manohar$         7  \n",
       "197861                                     ^gamma.r3$         8  \n",
       "158078                                    ^sni237411$         9  \n",
       "1012360                                    ^cjoalert$         8  \n",
       "1016120                                     ^demokol$         7  \n",
       "757001             ^babilunyulechengzaixiandubo._tls$        32  \n",
       "1050324                               ^sr-fr-122-119$        13  \n",
       "1198992                                         ^cwc$         3  \n",
       "639690     ^hyip-investmentonline.envoy.eastus2.prod$        40  \n",
       "897588                                       ^imming$         6  \n",
       "814486                                        ^dkiio$         5  \n",
       "415950                             ^r1---sn-4g5ednld$        16  \n",
       "832369                                        ^fsemk$         5  \n",
       "770012                                        ^da209$         5  \n",
       "618548              ^185-215.nomad.southcentralus.qa$        31  \n",
       "1104591                             ^mail-mobile.uat$        15  \n",
       "879166                                       ^mail.3$         6  \n",
       "489377                                    ^pkg.stage$         9  \n",
       "1161935                              ^ikm.host-stage$        14  \n",
       "717955                       ^workercompensationbook$        22  \n",
       "794427                                         ^hagu$         4  \n",
       "890947                                         ^essc$         4  \n",
       "103336                              ^api09-7-4.admin$        15  \n",
       "198377                                        ^rd.8c$         5  \n",
       "371671                                     ^sni64568$         8  \n",
       "...                                               ...       ...  \n",
       "1197552                           ^nevis.hostadvance$        17  \n",
       "1062888                               ^10c4a.data-08$        13  \n",
       "299631                                    ^schutting$         9  \n",
       "653140                        ^2250.envoy.eastus2.qa$        21  \n",
       "44661       ^www.idmsa.i.cloud.com.idmswebauth-login$        39  \n",
       "430942                                     ^mcf.gsfc$         8  \n",
       "1151891       ^fixforthcomingblogsorder.findyourpark$        37  \n",
       "700868                              ^www.auto-likers$        15  \n",
       "79410                               ^isit429-7.admin$        15  \n",
       "720111                                    ^ll04._tls$         9  \n",
       "417790                                     ^skewdemo$         8  \n",
       "1076246                              ^11-237.jukebox$        14  \n",
       "292579                            ^learnfrenchonline$        17  \n",
       "705489                                  ^livestockdb$        11  \n",
       "411748                               ^d13ot9o61jdzpp$        14  \n",
       "422060                                        ^pizzi$         5  \n",
       "90266                                     ^fantasy.m$         9  \n",
       "757177                                         ^jbpc$         4  \n",
       "916481                  ^58-162-86-1032.static.cloud$        27  \n",
       "1134955                                 ^hhk7092.uat$        11  \n",
       "239184                                 ^arlington.d0$        12  \n",
       "789906                                        ^wumho$         5  \n",
       "1079625                                   ^14-99jira$         9  \n",
       "869331                                 ^astartupaday$        12  \n",
       "90625                                 ^arr.callbacks$        13  \n",
       "1070902                                   ^5-121-109$         9  \n",
       "15264                                       ^jporter$         7  \n",
       "1150937                      ^am-red.affiliate-stage$        22  \n",
       "652303   ^bet365yulechenghaowanma.envoy.eastus2.prod$        42  \n",
       "1146450                 ^liveproducing-media.nightat$        27  \n",
       "\n",
       "[1143840 rows x 4 columns]"
      ]
     },
     "execution_count": 8,
     "metadata": {},
     "output_type": "execute_result"
    }
   ],
   "source": [
    "textFile"
   ]
  },
  {
   "cell_type": "code",
   "execution_count": 9,
   "metadata": {},
   "outputs": [],
   "source": [
    "textFile = textFile.reset_index(drop = True)"
   ]
  },
  {
   "cell_type": "code",
   "execution_count": 88,
   "metadata": {},
   "outputs": [],
   "source": [
    "resolvedDomains = pd.read_parquet('FarsightPrefixesResolvedSample1.parquet', engine= \"fastparquet\")"
   ]
  },
  {
   "cell_type": "code",
   "execution_count": 111,
   "metadata": {},
   "outputs": [],
   "source": [
    "resolvedDomains = resolvedDomains.sample(n = 5000)"
   ]
  },
  {
   "cell_type": "code",
   "execution_count": 112,
   "metadata": {},
   "outputs": [],
   "source": [
    "resolvedPref = list(resolvedDomains.prefix)"
   ]
  },
  {
   "cell_type": "code",
   "execution_count": 113,
   "metadata": {},
   "outputs": [
    {
     "data": {
      "text/plain": [
       "5000"
      ]
     },
     "execution_count": 113,
     "metadata": {},
     "output_type": "execute_result"
    }
   ],
   "source": [
    "len(resolvedPref)"
   ]
  },
  {
   "cell_type": "code",
   "execution_count": 114,
   "metadata": {},
   "outputs": [],
   "source": [
    "i = 124453\n",
    "for ele in resolvedPref:\n",
    "    textFile.loc[i,'prefix'] = ele\n",
    "    textFile.loc[i,'LABELS'] = 5\n",
    "    i += 1"
   ]
  },
  {
   "cell_type": "code",
   "execution_count": 150,
   "metadata": {},
   "outputs": [
    {
     "data": {
      "text/plain": [
       "1    94454\n",
       "3    15000\n",
       "2     9999\n",
       "4     5000\n",
       "Name: LABELS, dtype: int64"
      ]
     },
     "execution_count": 150,
     "metadata": {},
     "output_type": "execute_result"
    }
   ],
   "source": [
    "textFile.LABELS.value_counts()"
   ]
  },
  {
   "cell_type": "code",
   "execution_count": 10,
   "metadata": {},
   "outputs": [
    {
     "name": "stderr",
     "output_type": "stream",
     "text": [
      "C:\\Users\\Hp\\Anaconda3\\lib\\site-packages\\sklearn\\ensemble\\weight_boosting.py:29: DeprecationWarning: numpy.core.umath_tests is an internal NumPy module and should not be imported. It will be removed in a future NumPy release.\n",
      "  from numpy.core.umath_tests import inner1d\n"
     ]
    }
   ],
   "source": [
    "from sklearn.feature_extraction.text import CountVectorizer\n",
    "from sklearn.model_selection import train_test_split\n",
    "from sklearn.naive_bayes import MultinomialNB\n",
    "\n",
    "from sklearn.metrics import accuracy_score\n",
    "from sklearn.linear_model import LogisticRegression\n",
    "from sklearn import preprocessing\n",
    "from scipy.sparse import hstack\n",
    "from sklearn.feature_extraction.text import TfidfVectorizer\n",
    "from sklearn.ensemble import ExtraTreesClassifier\n",
    "from sklearn.metrics import roc_curve, auc,roc_auc_score\n",
    "from sklearn.metrics import confusion_matrix\n",
    "from sklearn.feature_selection import SelectKBest\n",
    "from sklearn.feature_selection import chi2\n"
   ]
  },
  {
   "cell_type": "code",
   "execution_count": 177,
   "metadata": {},
   "outputs": [],
   "source": [
    "textFile['bigramPref'] = [\"^{0}$\".format(row['prefix']) for i, row in textFile.iterrows()] "
   ]
  },
  {
   "cell_type": "code",
   "execution_count": 11,
   "metadata": {},
   "outputs": [],
   "source": [
    "textFile['prefix'] = textFile['prefix'].astype('str')"
   ]
  },
  {
   "cell_type": "code",
   "execution_count": 12,
   "metadata": {},
   "outputs": [],
   "source": [
    "textFile['bigramPref'] = textFile['bigramPref'].astype('str')"
   ]
  },
  {
   "cell_type": "code",
   "execution_count": 180,
   "metadata": {},
   "outputs": [],
   "source": [
    "pref_len = [len(row['prefix']) for i,row in textFile.iterrows()]\n",
    "textFile['pref_len'] = pref_len"
   ]
  },
  {
   "cell_type": "code",
   "execution_count": 13,
   "metadata": {},
   "outputs": [],
   "source": [
    "# textFile['uniqueCharacLen'] = [len(set(row['prefix'])) for i,row in textFile.iterrows() ]"
   ]
  },
  {
   "cell_type": "code",
   "execution_count": 13,
   "metadata": {},
   "outputs": [],
   "source": [
    "XAll = textFile[['bigramPref','pref_len','prefix']]\n",
    "target = textFile[['LABELS']]"
   ]
  },
  {
   "cell_type": "code",
   "execution_count": 14,
   "metadata": {},
   "outputs": [],
   "source": [
    "qname_train, qname_test, label_train, label_test = train_test_split(XAll, target, test_size=0.2, random_state = 2240)"
   ]
  },
  {
   "cell_type": "code",
   "execution_count": 15,
   "metadata": {},
   "outputs": [],
   "source": [
    "vectorizer = CountVectorizer(analyzer='char', ngram_range=(2, 2))\n",
    "X_train = vectorizer.fit_transform(qname_train['bigramPref'])"
   ]
  },
  {
   "cell_type": "code",
   "execution_count": 16,
   "metadata": {},
   "outputs": [],
   "source": [
    "combined_train_X = hstack((X_train ,np.array(qname_train['pref_len'])[:,None])).tocsr()"
   ]
  },
  {
   "cell_type": "code",
   "execution_count": 17,
   "metadata": {},
   "outputs": [
    {
     "data": {
      "text/plain": [
       "<915072x1626 sparse matrix of type '<class 'numpy.int64'>'\n",
       "\twith 13753998 stored elements in Compressed Sparse Row format>"
      ]
     },
     "execution_count": 17,
     "metadata": {},
     "output_type": "execute_result"
    }
   ],
   "source": [
    "# combinedtotalFeatures = hstack((combined_train_X ,np.array(qname_train['uniqueCharacLen'])[:,None])).tocsr()\n",
    "combined_train_X"
   ]
  },
  {
   "cell_type": "code",
   "execution_count": 18,
   "metadata": {},
   "outputs": [],
   "source": [
    "X_test = vectorizer.transform(qname_test['bigramPref'])"
   ]
  },
  {
   "cell_type": "code",
   "execution_count": 19,
   "metadata": {},
   "outputs": [],
   "source": [
    "combined_test_X = hstack((X_test,np.array(qname_test['pref_len'])[:,None])).tocsr()"
   ]
  },
  {
   "cell_type": "code",
   "execution_count": 20,
   "metadata": {},
   "outputs": [
    {
     "data": {
      "text/plain": [
       "<228768x1626 sparse matrix of type '<class 'numpy.int64'>'\n",
       "\twith 3434007 stored elements in Compressed Sparse Row format>"
      ]
     },
     "execution_count": 20,
     "metadata": {},
     "output_type": "execute_result"
    }
   ],
   "source": [
    "combined_test_X"
   ]
  },
  {
   "cell_type": "code",
   "execution_count": 17,
   "metadata": {},
   "outputs": [],
   "source": [
    "# combinedtotalFeatures_test = hstack((combined_test_X ,np.array(qname_test['uniqueCharacLen'])[:,None])).tocsr()\n",
    "testPrefix = combined_test_X.toarray()"
   ]
  },
  {
   "cell_type": "code",
   "execution_count": 18,
   "metadata": {},
   "outputs": [
    {
     "data": {
      "text/plain": [
       "array([[ 0,  0,  0, ...,  0,  0, 43],\n",
       "       [ 0,  0,  0, ...,  0,  0, 10],\n",
       "       [ 0,  0,  0, ...,  0,  0,  4],\n",
       "       ...,\n",
       "       [ 0,  0,  0, ...,  0,  0, 18],\n",
       "       [ 0,  0,  0, ...,  0,  0,  8],\n",
       "       [ 0,  0,  0, ...,  0,  0, 13]], dtype=int64)"
      ]
     },
     "execution_count": 18,
     "metadata": {},
     "output_type": "execute_result"
    }
   ],
   "source": [
    "testPrefix"
   ]
  },
  {
   "cell_type": "code",
   "execution_count": null,
   "metadata": {},
   "outputs": [],
   "source": [
    "pd.DataFrame.from_records(testPrefix)"
   ]
  },
  {
   "cell_type": "code",
   "execution_count": 21,
   "metadata": {},
   "outputs": [],
   "source": [
    "model = LogisticRegression(solver= 'lbfgs')"
   ]
  },
  {
   "cell_type": "code",
   "execution_count": 22,
   "metadata": {},
   "outputs": [
    {
     "name": "stderr",
     "output_type": "stream",
     "text": [
      "C:\\Users\\Hp\\Anaconda3\\lib\\site-packages\\sklearn\\utils\\validation.py:578: DataConversionWarning: A column-vector y was passed when a 1d array was expected. Please change the shape of y to (n_samples, ), for example using ravel().\n",
      "  y = column_or_1d(y, warn=True)\n"
     ]
    },
    {
     "data": {
      "text/plain": [
       "LogisticRegression(C=1.0, class_weight=None, dual=False, fit_intercept=True,\n",
       "          intercept_scaling=1, max_iter=100, multi_class='ovr', n_jobs=1,\n",
       "          penalty='l2', random_state=None, solver='lbfgs', tol=0.0001,\n",
       "          verbose=0, warm_start=False)"
      ]
     },
     "execution_count": 22,
     "metadata": {},
     "output_type": "execute_result"
    }
   ],
   "source": [
    "model.fit(combined_train_X, label_train)"
   ]
  },
  {
   "cell_type": "code",
   "execution_count": 21,
   "metadata": {},
   "outputs": [],
   "source": [
    "filename = 'modelReneeClusters'\n",
    "outfile = open(filename,'wb')\n",
    "pickle.dump(model,outfile)\n",
    "outfile.close()"
   ]
  },
  {
   "cell_type": "code",
   "execution_count": 23,
   "metadata": {},
   "outputs": [
    {
     "name": "stdout",
     "output_type": "stream",
     "text": [
      "0.71\n"
     ]
    }
   ],
   "source": [
    "y_pred=model.predict(combined_test_X)\n",
    "print(\"%.2f\" %accuracy_score(label_test ,y_pred))"
   ]
  },
  {
   "cell_type": "code",
   "execution_count": 30,
   "metadata": {},
   "outputs": [
    {
     "name": "stdout",
     "output_type": "stream",
     "text": [
      "[[5317  493   33]\n",
      " [ 808 2817   14]\n",
      " [ 209   49  935]]\n"
     ]
    }
   ],
   "source": [
    "# y_prob = model.predict_proba(combined_test_X)[:,1]\n",
    "# fpr, tpr, thresholds = roc_curve(label_test, y_prob)\n",
    "# auc = roc_auc_score(label_test, y_prob)\n",
    "# print(auc)\n",
    "\n",
    "cnf_matrix = confusion_matrix(label_test, y_pred)\n",
    "print(cnf_matrix)"
   ]
  },
  {
   "cell_type": "code",
   "execution_count": 228,
   "metadata": {},
   "outputs": [],
   "source": [
    "FP = cnf_matrix.sum(axis=0) - np.diag(cnf_matrix)"
   ]
  },
  {
   "cell_type": "code",
   "execution_count": 229,
   "metadata": {},
   "outputs": [
    {
     "data": {
      "text/plain": [
       "array([6201, 4465], dtype=int64)"
      ]
     },
     "execution_count": 229,
     "metadata": {},
     "output_type": "execute_result"
    }
   ],
   "source": [
    "cnf_matrix.sum(axis=0)"
   ]
  },
  {
   "cell_type": "code",
   "execution_count": 230,
   "metadata": {},
   "outputs": [],
   "source": [
    "FN = cnf_matrix.sum(axis=1) - np.diag(cnf_matrix)\n",
    "\n",
    "TP = np.diag(cnf_matrix)\n",
    "TN = cnf_matrix.sum() - (FP + FN + TP)\n",
    "\n",
    "FP = FP.astype(float)\n",
    "FN = FN.astype(float)\n",
    "TP = TP.astype(float)\n",
    "TN = TN.astype(float)"
   ]
  },
  {
   "cell_type": "code",
   "execution_count": 231,
   "metadata": {},
   "outputs": [
    {
     "data": {
      "text/plain": [
       "array([0.86583536, 0.86583536])"
      ]
     },
     "execution_count": 231,
     "metadata": {},
     "output_type": "execute_result"
    }
   ],
   "source": [
    "ACC = (TP+TN)/(TP+FP+FN+TN)\n",
    "ACC"
   ]
  },
  {
   "cell_type": "code",
   "execution_count": 232,
   "metadata": {},
   "outputs": [
    {
     "data": {
      "text/plain": [
       "array([0.90165039, 0.82085448])"
      ]
     },
     "execution_count": 232,
     "metadata": {},
     "output_type": "execute_result"
    }
   ],
   "source": [
    "TPR = TP/(TP+FN)\n",
    "TPR"
   ]
  },
  {
   "cell_type": "code",
   "execution_count": 233,
   "metadata": {},
   "outputs": [
    {
     "data": {
      "text/plain": [
       "array([0.82085448, 0.90165039])"
      ]
     },
     "execution_count": 233,
     "metadata": {},
     "output_type": "execute_result"
    }
   ],
   "source": [
    "TNR = TN/(TN+FP) \n",
    "TNR"
   ]
  },
  {
   "cell_type": "code",
   "execution_count": 234,
   "metadata": {},
   "outputs": [
    {
     "data": {
      "text/plain": [
       "array([0.09834961, 0.17914552])"
      ]
     },
     "execution_count": 234,
     "metadata": {},
     "output_type": "execute_result"
    }
   ],
   "source": [
    "FNR = FN/(TP+FN)\n",
    "FNR"
   ]
  },
  {
   "cell_type": "code",
   "execution_count": 426,
   "metadata": {},
   "outputs": [],
   "source": [
    "classes = [1,2,3]"
   ]
  },
  {
   "cell_type": "code",
   "execution_count": 207,
   "metadata": {},
   "outputs": [],
   "source": [
    "def plot_confusion_matrix(cm, classes,\n",
    "                          normalize=False,\n",
    "                          title='Confusion matrix',\n",
    "                          cmap=plt.cm.Blues):\n",
    "    \"\"\"\n",
    "    This function prints and plots the confusion matrix.\n",
    "    Normalization can be applied by setting `normalize=True`.\n",
    "    \"\"\"\n",
    "    if normalize:\n",
    "        cm = cm.astype('float') / cm.sum(axis=1)[:, np.newaxis]\n",
    "        print(\"Normalized confusion matrix\")\n",
    "    else:\n",
    "        print('Confusion matrix, without normalization')\n",
    "\n",
    "    print(cm)\n",
    "\n",
    "    plt.imshow(cm, interpolation='nearest', cmap=cmap)\n",
    "    plt.title(title)\n",
    "    plt.colorbar()\n",
    "    tick_marks = np.arange(len(classes))\n",
    "    plt.xticks(tick_marks, classes, rotation=45)\n",
    "    plt.yticks(tick_marks, classes)\n",
    "\n",
    "    fmt = '.2f' if normalize else 'd'\n",
    "    thresh = cm.max() / 2.\n",
    "    for i, j in itertools.product(range(cm.shape[0]), range(cm.shape[1])):\n",
    "        plt.text(j, i, format(cm[i, j], fmt),\n",
    "                 horizontalalignment=\"center\",\n",
    "                 color=\"white\" if cm[i, j] > thresh else \"black\")\n",
    "\n",
    "    plt.ylabel('True label')\n",
    "    plt.xlabel('Predicted label')\n",
    "    plt.tight_layout()"
   ]
  },
  {
   "cell_type": "code",
   "execution_count": 237,
   "metadata": {},
   "outputs": [],
   "source": [
    "# cnf_matrix = confusion_matrix(label_test, y_pred,labels=[1,2,4])"
   ]
  },
  {
   "cell_type": "code",
   "execution_count": 25,
   "metadata": {},
   "outputs": [
    {
     "data": {
      "image/png": "[encoded data removed]",
      "text/plain": [
       "<Figure size 720x720 with 2 Axes>"
      ]
     },
     "metadata": {},
     "output_type": "display_data"
    }
   ],
   "source": [
    "conf_mat = confusion_matrix(label_test, y_pred)\n",
    "cm = conf_mat.astype('float') / conf_mat.sum(axis=1)[:, np.newaxis]\n",
    "fig, ax = plt.subplots(figsize=(10,10))\n",
    "sns.set(font_scale=1.9)\n",
    "sns.heatmap(cm, annot=True, fmt = '.2f',\n",
    "            xticklabels=[-1,0,1,3,4,7], yticklabels=[-1,0,1,3,4,7], annot_kws={\"size\": 16})\n",
    "plt.ylabel('Actual', fontsize = 24)\n",
    "plt.xlabel('Predicted', fontsize = 24)\n",
    "plt.show()"
   ]
  },
  {
   "cell_type": "code",
   "execution_count": null,
   "metadata": {},
   "outputs": [],
   "source": []
  },
  {
   "cell_type": "code",
   "execution_count": null,
   "metadata": {},
   "outputs": [],
   "source": []
  }
 ],
 "metadata": {
  "kernelspec": {
   "display_name": "Python 3",
   "language": "python",
   "name": "python3"
  },
  "language_info": {
   "codemirror_mode": {
    "name": "ipython",
    "version": 3
   },
   "file_extension": ".py",
   "mimetype": "text/x-python",
   "name": "python",
   "nbconvert_exporter": "python",
   "pygments_lexer": "ipython3",
   "version": "3.6.6"
  }
 },
 "nbformat": 4,
 "nbformat_minor": 2
}
